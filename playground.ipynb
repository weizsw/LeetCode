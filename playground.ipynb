{
 "cells": [
  {
   "cell_type": "code",
   "execution_count": 68,
   "metadata": {},
   "outputs": [],
   "source": [
    "class Solution(object):\n",
    "    def twoSum(self, nums, target):\n",
    "        \"\"\"\n",
    "        :type nums: List[int]\n",
    "        :type target: int\n",
    "        :rtype: List[int]\n",
    "        \"\"\"\n",
    "        newnum = []\n",
    "        for num in nums:\n",
    "            newnum.append(num)\n",
    "        newnum.sort()\n",
    "        print('nums: ')\n",
    "        print(nums)\n",
    "        print('newnum: ')\n",
    "        print(newnum)\n",
    "        \n",
    "        \n",
    "        left = 0\n",
    "        right = len(nums) - 1\n",
    "\n",
    "        while left < right:\n",
    "            if newnum[left] + newnum[right] == target:\n",
    "                num1 = newnum[left]\n",
    "                num2 = newnum[right]\n",
    "                print(f'num1 = {num1}')\n",
    "                print(f'num2 = {num2}')\n",
    "                break\n",
    "            elif newnum[left] + newnum[right] < target:\n",
    "                left += 1\n",
    "            else:\n",
    "                right -= 1\n",
    "        mylist = ['','']\n",
    "\n",
    "\n",
    "        for index in range(len(nums)):\n",
    "            if nums[index] == num1 and mylist[0] == '':\n",
    "                mylist[0] = index\n",
    "                print(f'index1 = {index}')\n",
    "            elif nums[index] == num2 and mylist[1] == '':\n",
    "                print(f'index2 = {index}')\n",
    "                mylist[1] = index\n",
    "\n",
    "        return mylist"
   ]
  },
  {
   "cell_type": "code",
   "execution_count": 69,
   "metadata": {},
   "outputs": [],
   "source": [
    "solution = Solution()"
   ]
  },
  {
   "cell_type": "code",
   "execution_count": 70,
   "metadata": {},
   "outputs": [
    {
     "name": "stdout",
     "output_type": "stream",
     "text": [
      "nums: \n",
      "[2, 5, 5, 11]\n",
      "newnum: \n",
      "[2, 5, 5, 11]\n",
      "num1 = 5\n",
      "num2 = 5\n",
      "index1 = 1\n",
      "index2 = 2\n"
     ]
    },
    {
     "data": {
      "text/plain": [
       "[1, 2]"
      ]
     },
     "execution_count": 70,
     "metadata": {},
     "output_type": "execute_result"
    }
   ],
   "source": [
    "solution.twoSum([2,5,5,11],10)"
   ]
  },
  {
   "cell_type": "code",
   "execution_count": 83,
   "metadata": {},
   "outputs": [],
   "source": []
  },
  {
   "cell_type": "code",
   "execution_count": 170,
   "metadata": {},
   "outputs": [],
   "source": [
    "class Solution(object):\n",
    "    def rotate(self, nums, k):\n",
    "        \"\"\"\n",
    "        :type nums: List[int]\n",
    "        :type k: int\n",
    "        :rtype: None Do not return anything, modify nums in-place instead.\n",
    "        \"\"\"\n",
    "        if len(nums) == 1:\n",
    "            nums = nums\n",
    "        else:\n",
    "            while k != 0:\n",
    "                nums.insert(0,nums.pop())\n",
    "                k -= 1\n",
    "        print(nums)"
   ]
  },
  {
   "cell_type": "code",
   "execution_count": 171,
   "metadata": {},
   "outputs": [],
   "source": [
    "solution = Solution()"
   ]
  },
  {
   "cell_type": "code",
   "execution_count": 172,
   "metadata": {},
   "outputs": [
    {
     "name": "stdout",
     "output_type": "stream",
     "text": [
      "[2, 1]\n"
     ]
    }
   ],
   "source": [
    "num = solution.rotate([1,2],3)"
   ]
  },
  {
   "cell_type": "code",
   "execution_count": 142,
   "metadata": {},
   "outputs": [],
   "source": []
  },
  {
   "cell_type": "code",
   "execution_count": null,
   "metadata": {},
   "outputs": [],
   "source": []
  }
 ],
 "metadata": {
  "kernelspec": {
   "display_name": "Python 3",
   "language": "python",
   "name": "python3"
  },
  "language_info": {
   "codemirror_mode": {
    "name": "ipython",
    "version": 3
   },
   "file_extension": ".py",
   "mimetype": "text/x-python",
   "name": "python",
   "nbconvert_exporter": "python",
   "pygments_lexer": "ipython3",
   "version": "3.7.3"
  }
 },
 "nbformat": 4,
 "nbformat_minor": 2
}

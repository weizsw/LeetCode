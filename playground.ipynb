{
 "cells": [
  {
   "cell_type": "code",
   "execution_count": 68,
   "metadata": {},
   "outputs": [],
   "source": [
    "class Solution(object):\n",
    "    def twoSum(self, nums, target):\n",
    "        \"\"\"\n",
    "        :type nums: List[int]\n",
    "        :type target: int\n",
    "        :rtype: List[int]\n",
    "        \"\"\"\n",
    "        newnum = []\n",
    "        for num in nums:\n",
    "            newnum.append(num)\n",
    "        newnum.sort()\n",
    "        print('nums: ')\n",
    "        print(nums)\n",
    "        print('newnum: ')\n",
    "        print(newnum)\n",
    "        \n",
    "        \n",
    "        left = 0\n",
    "        right = len(nums) - 1\n",
    "\n",
    "        while left < right:\n",
    "            if newnum[left] + newnum[right] == target:\n",
    "                num1 = newnum[left]\n",
    "                num2 = newnum[right]\n",
    "                print(f'num1 = {num1}')\n",
    "                print(f'num2 = {num2}')\n",
    "                break\n",
    "            elif newnum[left] + newnum[right] < target:\n",
    "                left += 1\n",
    "            else:\n",
    "                right -= 1\n",
    "        mylist = ['','']\n",
    "\n",
    "\n",
    "        for index in range(len(nums)):\n",
    "            if nums[index] == num1 and mylist[0] == '':\n",
    "                mylist[0] = index\n",
    "                print(f'index1 = {index}')\n",
    "            elif nums[index] == num2 and mylist[1] == '':\n",
    "                print(f'index2 = {index}')\n",
    "                mylist[1] = index\n",
    "\n",
    "        return mylist"
   ]
  },
  {
   "cell_type": "code",
   "execution_count": 69,
   "metadata": {},
   "outputs": [],
   "source": [
    "solution = Solution()"
   ]
  },
  {
   "cell_type": "code",
   "execution_count": 70,
   "metadata": {},
   "outputs": [
    {
     "name": "stdout",
     "output_type": "stream",
     "text": [
      "nums: \n",
      "[2, 5, 5, 11]\n",
      "newnum: \n",
      "[2, 5, 5, 11]\n",
      "num1 = 5\n",
      "num2 = 5\n",
      "index1 = 1\n",
      "index2 = 2\n"
     ]
    },
    {
     "data": {
      "text/plain": [
       "[1, 2]"
      ]
     },
     "execution_count": 70,
     "metadata": {},
     "output_type": "execute_result"
    }
   ],
   "source": [
    "solution.twoSum([2,5,5,11],10)"
   ]
  },
  {
   "cell_type": "code",
   "execution_count": 83,
   "metadata": {},
   "outputs": [],
   "source": []
  },
  {
   "cell_type": "code",
   "execution_count": 442,
   "metadata": {},
   "outputs": [],
   "source": [
    "class Solution(object):\n",
    "    def isValidSudoku(self, board):\n",
    "        \"\"\"\n",
    "        :type board: List[List[str]]\n",
    "        :rtype: bool\n",
    "        \"\"\"\n",
    "\n",
    "        for list in board:\n",
    "#             print(list)\n",
    "            nums = [\"1\",\"2\",\"3\",\"4\",\"5\",\"6\",\"7\",\"8\",\"9\"]\n",
    "            for num in list:\n",
    "                if num in nums:\n",
    "                    nums.remove(num)\n",
    "                elif num == '.':\n",
    "                    continue\n",
    "                else:\n",
    "                    return False\n",
    "\n",
    "        for i in range(0,9):\n",
    "            nums = [\"1\",\"2\",\"3\",\"4\",\"5\",\"6\",\"7\",\"8\",\"9\"]\n",
    "            for j in range(0,9):\n",
    "                if board[j][i] in nums:\n",
    "                    nums.remove(board[j][i])\n",
    "                elif board[j][i] == \".\":\n",
    "                    continue\n",
    "                else:\n",
    "                    return False\n",
    "\n",
    "        n = 0\n",
    "        m = 3\n",
    "        k = 0\n",
    "        l = 3\n",
    "        while (m <= 9):\n",
    "            nums = [\"1\",\"2\",\"3\",\"4\",\"5\",\"6\",\"7\",\"8\",\"9\"]\n",
    "            for i in range(n,m):\n",
    "                \n",
    "                for j in range(k,l):\n",
    "#                     print(board[i][j])\n",
    "                    if board[i][j] in nums:\n",
    "#                         print(nums)\n",
    "                        nums.remove(board[i][j])\n",
    "                    elif board[i][j] == '.':\n",
    "                        continue\n",
    "                    else:\n",
    "                        return False\n",
    "            k += 3\n",
    "            l += 3\n",
    "            if l > 9:\n",
    "                k = 0\n",
    "                l = 3\n",
    "                n += 3\n",
    "                m += 3\n",
    "\n",
    "        return True\n",
    "\n",
    "\n",
    "\n",
    "\n",
    "\n",
    "\n"
   ]
  },
  {
   "cell_type": "code",
   "execution_count": 443,
   "metadata": {},
   "outputs": [],
   "source": [
    "solution = Solution()"
   ]
  },
  {
   "cell_type": "code",
   "execution_count": 444,
   "metadata": {},
   "outputs": [],
   "source": [
    "board = [[\"1\",\"2\",\".\",\".\",\".\",\".\",\"6\",\".\",\"7\"],\n",
    "         [\".\",\".\",\".\",\".\",\".\",\".\",\".\",\".\",\"5\"],\n",
    "         [\".\",\".\",\"9\",\".\",\"6\",\".\",\"4\",\".\",\".\"],\n",
    "         [\".\",\"6\",\".\",\".\",\".\",\".\",\".\",\".\",\".\"],\n",
    "         [\".\",\".\",\".\",\".\",\"4\",\".\",\".\",\"7\",\".\"],\n",
    "         [\".\",\".\",\".\",\".\",\".\",\".\",\".\",\".\",\".\"],\n",
    "         [\".\",\".\",\".\",\"5\",\".\",\".\",\".\",\".\",\".\"],\n",
    "         [\".\",\".\",\".\",\".\",\".\",\".\",\".\",\".\",\"2\"],\n",
    "         [\".\",\"9\",\".\",\".\",\".\",\".\",\".\",\".\",\"7\"]]"
   ]
  },
  {
   "cell_type": "code",
   "execution_count": null,
   "metadata": {},
   "outputs": [],
   "source": []
  },
  {
   "cell_type": "code",
   "execution_count": 445,
   "metadata": {},
   "outputs": [
    {
     "name": "stdout",
     "output_type": "stream",
     "text": [
      ".\n",
      ".\n",
      ".\n",
      ".\n",
      "4\n",
      "['1', '2', '3', '4', '5', '6', '7', '8', '9']\n",
      ".\n",
      ".\n",
      ".\n",
      ".\n",
      ".\n",
      "5\n",
      "['1', '2', '3', '4', '5', '6', '7', '8', '9']\n",
      ".\n",
      "3\n",
      "['1', '2', '3', '4', '6', '7', '8', '9']\n",
      ".\n",
      ".\n",
      ".\n",
      ".\n",
      "3\n",
      "False\n",
      ".\n",
      "1\n",
      "['1', '2', '3', '4', '5', '6', '7', '8', '9']\n",
      ".\n",
      ".\n",
      ".\n",
      ".\n",
      ".\n",
      ".\n",
      "1\n",
      "False\n",
      "8\n",
      "['1', '2', '3', '4', '5', '6', '7', '8', '9']\n",
      ".\n",
      ".\n",
      ".\n",
      ".\n",
      "2\n",
      "['1', '2', '3', '4', '5', '6', '7', '9']\n",
      ".\n",
      "1\n",
      "['1', '3', '4', '5', '6', '7', '9']\n",
      "5\n",
      "['3', '4', '5', '6', '7', '9']\n",
      ".\n",
      ".\n",
      ".\n",
      ".\n",
      "7\n",
      "['1', '2', '3', '4', '5', '6', '7', '8', '9']\n",
      ".\n",
      ".\n",
      ".\n",
      ".\n",
      ".\n",
      "2\n",
      "['1', '2', '3', '4', '5', '6', '7', '8', '9']\n",
      ".\n",
      ".\n",
      ".\n",
      ".\n",
      ".\n",
      ".\n",
      ".\n",
      ".\n",
      ".\n",
      ".\n",
      ".\n",
      "2\n",
      "['1', '2', '3', '4', '5', '6', '7', '8', '9']\n",
      ".\n",
      ".\n",
      ".\n",
      "4\n",
      "['1', '3', '4', '5', '6', '7', '8', '9']\n",
      ".\n",
      ".\n",
      "2\n",
      "['1', '2', '3', '4', '5', '6', '7', '8', '9']\n",
      "9\n",
      "['1', '3', '4', '5', '6', '7', '8', '9']\n",
      ".\n",
      ".\n",
      ".\n",
      ".\n",
      ".\n",
      ".\n",
      ".\n",
      ".\n",
      ".\n",
      ".\n",
      ".\n",
      ".\n",
      ".\n",
      ".\n"
     ]
    }
   ],
   "source": [
    "num = solution.isValidSudoku(board)"
   ]
  },
  {
   "cell_type": "code",
   "execution_count": 425,
   "metadata": {},
   "outputs": [
    {
     "data": {
      "text/plain": [
       "True"
      ]
     },
     "execution_count": 425,
     "metadata": {},
     "output_type": "execute_result"
    }
   ],
   "source": [
    "num"
   ]
  },
  {
   "cell_type": "code",
   "execution_count": 311,
   "metadata": {},
   "outputs": [],
   "source": [
    "a = [\"1\",\"2\",\"3\",\"4\",\"5\",\"6\",\"7\",\"8\",9]"
   ]
  },
  {
   "cell_type": "code",
   "execution_count": 312,
   "metadata": {},
   "outputs": [],
   "source": [
    "b = [\"5\",\"3\",\".\",\"7\",\"7\",\".\",\".\",\".\",\".\"]"
   ]
  },
  {
   "cell_type": "code",
   "execution_count": 313,
   "metadata": {},
   "outputs": [
    {
     "name": "stdout",
     "output_type": "stream",
     "text": [
      "False\n",
      "['1', '2', '4', '6', '8', 9]\n"
     ]
    }
   ],
   "source": [
    "for num in b:\n",
    "    if num in a:\n",
    "        a.remove(num)\n",
    "    elif num == '.':\n",
    "        continue\n",
    "    else:\n",
    "        print('False')\n",
    "        print(a)\n",
    "        "
   ]
  },
  {
   "cell_type": "code",
   "execution_count": 310,
   "metadata": {},
   "outputs": [
    {
     "data": {
      "text/plain": [
       "['1', '2', '4', '6', '8', 9]"
      ]
     },
     "execution_count": 310,
     "metadata": {},
     "output_type": "execute_result"
    }
   ],
   "source": [
    "a"
   ]
  },
  {
   "cell_type": "code",
   "execution_count": 416,
   "metadata": {},
   "outputs": [
    {
     "name": "stdout",
     "output_type": "stream",
     "text": [
      "3\n",
      "4\n",
      "5\n"
     ]
    }
   ],
   "source": [
    "for i in range(3,6):\n",
    "    print(i)"
   ]
  },
  {
   "cell_type": "code",
   "execution_count": 446,
   "metadata": {},
   "outputs": [],
   "source": [
    "l = 4"
   ]
  },
  {
   "cell_type": "code",
   "execution_count": 448,
   "metadata": {},
   "outputs": [
    {
     "name": "stdout",
     "output_type": "stream",
     "text": [
      "0\n",
      "1\n",
      "2\n",
      "3\n"
     ]
    }
   ],
   "source": [
    "for i in range(l):\n",
    "    print(i)"
   ]
  },
  {
   "cell_type": "code",
   "execution_count": 450,
   "metadata": {},
   "outputs": [],
   "source": [
    "list = [[1,2,3],[2,2,3],[3,3,3]]"
   ]
  },
  {
   "cell_type": "code",
   "execution_count": 451,
   "metadata": {},
   "outputs": [
    {
     "data": {
      "text/plain": [
       "[1, 2, 3]"
      ]
     },
     "execution_count": 451,
     "metadata": {},
     "output_type": "execute_result"
    }
   ],
   "source": [
    "list.pop(0)"
   ]
  },
  {
   "cell_type": "code",
   "execution_count": 452,
   "metadata": {},
   "outputs": [
    {
     "data": {
      "text/plain": [
       "[[2, 2, 3], [3, 3, 3]]"
      ]
     },
     "execution_count": 452,
     "metadata": {},
     "output_type": "execute_result"
    }
   ],
   "source": [
    "list"
   ]
  },
  {
   "cell_type": "code",
   "execution_count": 461,
   "metadata": {},
   "outputs": [],
   "source": [
    "list.append(['','',''])"
   ]
  },
  {
   "cell_type": "code",
   "execution_count": 454,
   "metadata": {},
   "outputs": [
    {
     "data": {
      "text/plain": [
       "[[2, 2, 3], [3, 3, 3], []]"
      ]
     },
     "execution_count": 454,
     "metadata": {},
     "output_type": "execute_result"
    }
   ],
   "source": [
    "list"
   ]
  },
  {
   "cell_type": "code",
   "execution_count": 459,
   "metadata": {},
   "outputs": [
    {
     "data": {
      "text/plain": [
       "[]"
      ]
     },
     "execution_count": 459,
     "metadata": {},
     "output_type": "execute_result"
    }
   ],
   "source": [
    "list[2]"
   ]
  },
  {
   "cell_type": "code",
   "execution_count": 471,
   "metadata": {},
   "outputs": [],
   "source": [
    "mylist = [[1,2,3],\n",
    "          [4,5,6],\n",
    "          [7,8,9]]"
   ]
  },
  {
   "cell_type": "code",
   "execution_count": 472,
   "metadata": {},
   "outputs": [],
   "source": [
    "n = len(mylist)"
   ]
  },
  {
   "cell_type": "code",
   "execution_count": 480,
   "metadata": {},
   "outputs": [
    {
     "name": "stdout",
     "output_type": "stream",
     "text": [
      "[[7, 8, 9], [4, 5, 6], [1, 2, 3]]\n",
      "[[7, 4, 9], [8, 5, 6], [1, 2, 3]]\n",
      "[[7, 4, 1], [8, 5, 6], [9, 2, 3]]\n",
      "[[7, 4, 1], [8, 5, 6], [9, 2, 3]]\n",
      "[[7, 4, 1], [8, 5, 6], [9, 2, 3]]\n",
      "[[7, 4, 1], [8, 5, 2], [9, 6, 3]]\n",
      "[[7, 4, 1], [8, 5, 2], [9, 6, 3]]\n",
      "[[7, 4, 1], [8, 5, 2], [9, 6, 3]]\n",
      "[[7, 4, 1], [8, 5, 2], [9, 6, 3]]\n"
     ]
    }
   ],
   "source": [
    "for i in range(n):\n",
    "    for j in range(n):\n",
    "        if i < j:\n",
    "            mylist[i][j],mylist[j][i] = mylist[j][i],mylist[i][j]\n",
    "        print(mylist)"
   ]
  },
  {
   "cell_type": "code",
   "execution_count": 474,
   "metadata": {},
   "outputs": [
    {
     "data": {
      "text/plain": [
       "[[1, 4, 7], [2, 5, 8], [3, 6, 9]]"
      ]
     },
     "execution_count": 474,
     "metadata": {},
     "output_type": "execute_result"
    }
   ],
   "source": [
    "mylist"
   ]
  },
  {
   "cell_type": "code",
   "execution_count": 475,
   "metadata": {},
   "outputs": [],
   "source": [
    "for l in mylist:\n",
    "    l.reverse()"
   ]
  },
  {
   "cell_type": "code",
   "execution_count": 476,
   "metadata": {},
   "outputs": [
    {
     "data": {
      "text/plain": [
       "[[7, 4, 1], [8, 5, 2], [9, 6, 3]]"
      ]
     },
     "execution_count": 476,
     "metadata": {},
     "output_type": "execute_result"
    }
   ],
   "source": [
    "mylist"
   ]
  },
  {
   "cell_type": "code",
   "execution_count": 481,
   "metadata": {},
   "outputs": [
    {
     "ename": "TypeError",
     "evalue": "cannot unpack non-iterable int object",
     "output_type": "error",
     "traceback": [
      "\u001b[0;31m---------------------------------------------------------------------------\u001b[0m",
      "\u001b[0;31mTypeError\u001b[0m                                 Traceback (most recent call last)",
      "\u001b[0;32m<ipython-input-481-9ddffd30c937>\u001b[0m in \u001b[0;36m<module>\u001b[0;34m\u001b[0m\n\u001b[0;32m----> 1\u001b[0;31m \u001b[0mpt1\u001b[0m\u001b[0;34m,\u001b[0m \u001b[0mpt2\u001b[0m \u001b[0;34m=\u001b[0m \u001b[0;36m0\u001b[0m\u001b[0;34m\u001b[0m\u001b[0;34m\u001b[0m\u001b[0m\n\u001b[0m",
      "\u001b[0;31mTypeError\u001b[0m: cannot unpack non-iterable int object"
     ]
    }
   ],
   "source": [
    "pt1, pt2 = 0"
   ]
  },
  {
   "cell_type": "code",
   "execution_count": 534,
   "metadata": {},
   "outputs": [],
   "source": [
    "class Solution(object):\n",
    "    def merge(self, nums1, m, nums2, n):\n",
    "        \"\"\"\n",
    "        :type nums1: List[int]\n",
    "        :type m: int\n",
    "        :type nums2: List[int]\n",
    "        :type n: int\n",
    "        :rtype: None Do not return anything, modify nums1 in-place instead.\n",
    "        \"\"\"\n",
    "\n",
    "            \n",
    "        i = j = 0\n",
    "        if m == 0:\n",
    "            for num in nums2:\n",
    "                nums1.remove(0)\n",
    "            for num in nums2:\n",
    "                nums1.append(num)\n",
    "            return\n",
    "        elif n == 0:\n",
    "            nums1 = nums1\n",
    "            return \n",
    "            \n",
    "        \n",
    "        while True:\n",
    "            try:\n",
    "                if nums1[i] <= nums2[j] and nums1[i+1] >= nums2[j] or nums1[i] <= nums2[j] and nums1[i+1] == 0:\n",
    "                    nums1.insert(i+1, nums2[j])\n",
    "                    j += 1\n",
    "                elif nums1[i] < nums2[j]:\n",
    "                    i += 1\n",
    "                elif nums1[i] > nums2[j]:\n",
    "                    nums1.insert(i, nums2[j])\n",
    "                    j += 1\n",
    "            except IndexError:\n",
    "                break\n",
    "        while nums1[-1] == 0:\n",
    "            nums1.pop()\n",
    "            print('pop')        \n",
    "        \n",
    "        print(nums1)\n",
    "        \n",
    "        \n",
    "        \n",
    "        \n",
    "        \n",
    "        "
   ]
  },
  {
   "cell_type": "code",
   "execution_count": 535,
   "metadata": {},
   "outputs": [],
   "source": [
    "solution = Solution()"
   ]
  },
  {
   "cell_type": "code",
   "execution_count": 536,
   "metadata": {},
   "outputs": [
    {
     "name": "stdout",
     "output_type": "stream",
     "text": [
      "pop\n",
      "pop\n",
      "pop\n",
      "[1, 2, 2, 3, 4, 5]\n"
     ]
    }
   ],
   "source": [
    "solution.merge([1,2,3,0,0,0],6,[2,4,5],3)"
   ]
  },
  {
   "cell_type": "code",
   "execution_count": 528,
   "metadata": {},
   "outputs": [],
   "source": [
    "nums = [1,2,3,4,5]"
   ]
  },
  {
   "cell_type": "code",
   "execution_count": 530,
   "metadata": {},
   "outputs": [
    {
     "data": {
      "text/plain": [
       "5"
      ]
     },
     "execution_count": 530,
     "metadata": {},
     "output_type": "execute_result"
    }
   ],
   "source": [
    "nums[-1]"
   ]
  },
  {
   "cell_type": "code",
   "execution_count": null,
   "metadata": {},
   "outputs": [],
   "source": []
  }
 ],
 "metadata": {
  "kernelspec": {
   "display_name": "Python 3",
   "language": "python",
   "name": "python3"
  },
  "language_info": {
   "codemirror_mode": {
    "name": "ipython",
    "version": 3
   },
   "file_extension": ".py",
   "mimetype": "text/x-python",
   "name": "python",
   "nbconvert_exporter": "python",
   "pygments_lexer": "ipython3",
   "version": "3.7.3"
  }
 },
 "nbformat": 4,
 "nbformat_minor": 2
}

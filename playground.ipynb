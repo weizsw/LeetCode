{
 "cells": [
  {
   "cell_type": "code",
   "execution_count": 68,
   "metadata": {},
   "outputs": [],
   "source": [
    "class Solution(object):\n",
    "    def twoSum(self, nums, target):\n",
    "        \"\"\"\n",
    "        :type nums: List[int]\n",
    "        :type target: int\n",
    "        :rtype: List[int]\n",
    "        \"\"\"\n",
    "        newnum = []\n",
    "        for num in nums:\n",
    "            newnum.append(num)\n",
    "        newnum.sort()\n",
    "        print('nums: ')\n",
    "        print(nums)\n",
    "        print('newnum: ')\n",
    "        print(newnum)\n",
    "        \n",
    "        \n",
    "        left = 0\n",
    "        right = len(nums) - 1\n",
    "\n",
    "        while left < right:\n",
    "            if newnum[left] + newnum[right] == target:\n",
    "                num1 = newnum[left]\n",
    "                num2 = newnum[right]\n",
    "                print(f'num1 = {num1}')\n",
    "                print(f'num2 = {num2}')\n",
    "                break\n",
    "            elif newnum[left] + newnum[right] < target:\n",
    "                left += 1\n",
    "            else:\n",
    "                right -= 1\n",
    "        mylist = ['','']\n",
    "\n",
    "\n",
    "        for index in range(len(nums)):\n",
    "            if nums[index] == num1 and mylist[0] == '':\n",
    "                mylist[0] = index\n",
    "                print(f'index1 = {index}')\n",
    "            elif nums[index] == num2 and mylist[1] == '':\n",
    "                print(f'index2 = {index}')\n",
    "                mylist[1] = index\n",
    "\n",
    "        return mylist"
   ]
  },
  {
   "cell_type": "code",
   "execution_count": 69,
   "metadata": {},
   "outputs": [],
   "source": [
    "solution = Solution()"
   ]
  },
  {
   "cell_type": "code",
   "execution_count": 70,
   "metadata": {},
   "outputs": [
    {
     "name": "stdout",
     "output_type": "stream",
     "text": [
      "nums: \n",
      "[2, 5, 5, 11]\n",
      "newnum: \n",
      "[2, 5, 5, 11]\n",
      "num1 = 5\n",
      "num2 = 5\n",
      "index1 = 1\n",
      "index2 = 2\n"
     ]
    },
    {
     "data": {
      "text/plain": [
       "[1, 2]"
      ]
     },
     "execution_count": 70,
     "metadata": {},
     "output_type": "execute_result"
    }
   ],
   "source": [
    "solution.twoSum([2,5,5,11],10)"
   ]
  },
  {
   "cell_type": "code",
   "execution_count": 83,
   "metadata": {},
   "outputs": [],
   "source": []
  },
  {
   "cell_type": "code",
   "execution_count": 442,
   "metadata": {},
   "outputs": [],
   "source": [
    "class Solution(object):\n",
    "    def isValidSudoku(self, board):\n",
    "        \"\"\"\n",
    "        :type board: List[List[str]]\n",
    "        :rtype: bool\n",
    "        \"\"\"\n",
    "\n",
    "        for list in board:\n",
    "#             print(list)\n",
    "            nums = [\"1\",\"2\",\"3\",\"4\",\"5\",\"6\",\"7\",\"8\",\"9\"]\n",
    "            for num in list:\n",
    "                if num in nums:\n",
    "                    nums.remove(num)\n",
    "                elif num == '.':\n",
    "                    continue\n",
    "                else:\n",
    "                    return False\n",
    "\n",
    "        for i in range(0,9):\n",
    "            nums = [\"1\",\"2\",\"3\",\"4\",\"5\",\"6\",\"7\",\"8\",\"9\"]\n",
    "            for j in range(0,9):\n",
    "                if board[j][i] in nums:\n",
    "                    nums.remove(board[j][i])\n",
    "                elif board[j][i] == \".\":\n",
    "                    continue\n",
    "                else:\n",
    "                    return False\n",
    "\n",
    "        n = 0\n",
    "        m = 3\n",
    "        k = 0\n",
    "        l = 3\n",
    "        while (m <= 9):\n",
    "            nums = [\"1\",\"2\",\"3\",\"4\",\"5\",\"6\",\"7\",\"8\",\"9\"]\n",
    "            for i in range(n,m):\n",
    "                \n",
    "                for j in range(k,l):\n",
    "#                     print(board[i][j])\n",
    "                    if board[i][j] in nums:\n",
    "#                         print(nums)\n",
    "                        nums.remove(board[i][j])\n",
    "                    elif board[i][j] == '.':\n",
    "                        continue\n",
    "                    else:\n",
    "                        return False\n",
    "            k += 3\n",
    "            l += 3\n",
    "            if l > 9:\n",
    "                k = 0\n",
    "                l = 3\n",
    "                n += 3\n",
    "                m += 3\n",
    "\n",
    "        return True\n",
    "\n",
    "\n",
    "\n",
    "\n",
    "\n",
    "\n"
   ]
  },
  {
   "cell_type": "code",
   "execution_count": 443,
   "metadata": {},
   "outputs": [],
   "source": [
    "solution = Solution()"
   ]
  },
  {
   "cell_type": "code",
   "execution_count": 444,
   "metadata": {},
   "outputs": [],
   "source": [
    "board = [[\"1\",\"2\",\".\",\".\",\".\",\".\",\"6\",\".\",\"7\"],\n",
    "         [\".\",\".\",\".\",\".\",\".\",\".\",\".\",\".\",\"5\"],\n",
    "         [\".\",\".\",\"9\",\".\",\"6\",\".\",\"4\",\".\",\".\"],\n",
    "         [\".\",\"6\",\".\",\".\",\".\",\".\",\".\",\".\",\".\"],\n",
    "         [\".\",\".\",\".\",\".\",\"4\",\".\",\".\",\"7\",\".\"],\n",
    "         [\".\",\".\",\".\",\".\",\".\",\".\",\".\",\".\",\".\"],\n",
    "         [\".\",\".\",\".\",\"5\",\".\",\".\",\".\",\".\",\".\"],\n",
    "         [\".\",\".\",\".\",\".\",\".\",\".\",\".\",\".\",\"2\"],\n",
    "         [\".\",\"9\",\".\",\".\",\".\",\".\",\".\",\".\",\"7\"]]"
   ]
  },
  {
   "cell_type": "code",
   "execution_count": null,
   "metadata": {},
   "outputs": [],
   "source": []
  },
  {
   "cell_type": "code",
   "execution_count": 445,
   "metadata": {},
   "outputs": [
    {
     "name": "stdout",
     "output_type": "stream",
     "text": [
      ".\n",
      ".\n",
      ".\n",
      ".\n",
      "4\n",
      "['1', '2', '3', '4', '5', '6', '7', '8', '9']\n",
      ".\n",
      ".\n",
      ".\n",
      ".\n",
      ".\n",
      "5\n",
      "['1', '2', '3', '4', '5', '6', '7', '8', '9']\n",
      ".\n",
      "3\n",
      "['1', '2', '3', '4', '6', '7', '8', '9']\n",
      ".\n",
      ".\n",
      ".\n",
      ".\n",
      "3\n",
      "False\n",
      ".\n",
      "1\n",
      "['1', '2', '3', '4', '5', '6', '7', '8', '9']\n",
      ".\n",
      ".\n",
      ".\n",
      ".\n",
      ".\n",
      ".\n",
      "1\n",
      "False\n",
      "8\n",
      "['1', '2', '3', '4', '5', '6', '7', '8', '9']\n",
      ".\n",
      ".\n",
      ".\n",
      ".\n",
      "2\n",
      "['1', '2', '3', '4', '5', '6', '7', '9']\n",
      ".\n",
      "1\n",
      "['1', '3', '4', '5', '6', '7', '9']\n",
      "5\n",
      "['3', '4', '5', '6', '7', '9']\n",
      ".\n",
      ".\n",
      ".\n",
      ".\n",
      "7\n",
      "['1', '2', '3', '4', '5', '6', '7', '8', '9']\n",
      ".\n",
      ".\n",
      ".\n",
      ".\n",
      ".\n",
      "2\n",
      "['1', '2', '3', '4', '5', '6', '7', '8', '9']\n",
      ".\n",
      ".\n",
      ".\n",
      ".\n",
      ".\n",
      ".\n",
      ".\n",
      ".\n",
      ".\n",
      ".\n",
      ".\n",
      "2\n",
      "['1', '2', '3', '4', '5', '6', '7', '8', '9']\n",
      ".\n",
      ".\n",
      ".\n",
      "4\n",
      "['1', '3', '4', '5', '6', '7', '8', '9']\n",
      ".\n",
      ".\n",
      "2\n",
      "['1', '2', '3', '4', '5', '6', '7', '8', '9']\n",
      "9\n",
      "['1', '3', '4', '5', '6', '7', '8', '9']\n",
      ".\n",
      ".\n",
      ".\n",
      ".\n",
      ".\n",
      ".\n",
      ".\n",
      ".\n",
      ".\n",
      ".\n",
      ".\n",
      ".\n",
      ".\n",
      ".\n"
     ]
    }
   ],
   "source": [
    "num = solution.isValidSudoku(board)"
   ]
  },
  {
   "cell_type": "code",
   "execution_count": 425,
   "metadata": {},
   "outputs": [
    {
     "data": {
      "text/plain": [
       "True"
      ]
     },
     "execution_count": 425,
     "metadata": {},
     "output_type": "execute_result"
    }
   ],
   "source": [
    "num"
   ]
  },
  {
   "cell_type": "code",
   "execution_count": 311,
   "metadata": {},
   "outputs": [],
   "source": [
    "a = [\"1\",\"2\",\"3\",\"4\",\"5\",\"6\",\"7\",\"8\",9]"
   ]
  },
  {
   "cell_type": "code",
   "execution_count": 312,
   "metadata": {},
   "outputs": [],
   "source": [
    "b = [\"5\",\"3\",\".\",\"7\",\"7\",\".\",\".\",\".\",\".\"]"
   ]
  },
  {
   "cell_type": "code",
   "execution_count": 313,
   "metadata": {},
   "outputs": [
    {
     "name": "stdout",
     "output_type": "stream",
     "text": [
      "False\n",
      "['1', '2', '4', '6', '8', 9]\n"
     ]
    }
   ],
   "source": [
    "for num in b:\n",
    "    if num in a:\n",
    "        a.remove(num)\n",
    "    elif num == '.':\n",
    "        continue\n",
    "    else:\n",
    "        print('False')\n",
    "        print(a)\n",
    "        "
   ]
  },
  {
   "cell_type": "code",
   "execution_count": 310,
   "metadata": {},
   "outputs": [
    {
     "data": {
      "text/plain": [
       "['1', '2', '4', '6', '8', 9]"
      ]
     },
     "execution_count": 310,
     "metadata": {},
     "output_type": "execute_result"
    }
   ],
   "source": [
    "a"
   ]
  },
  {
   "cell_type": "code",
   "execution_count": 416,
   "metadata": {},
   "outputs": [
    {
     "name": "stdout",
     "output_type": "stream",
     "text": [
      "3\n",
      "4\n",
      "5\n"
     ]
    }
   ],
   "source": [
    "for i in range(3,6):\n",
    "    print(i)"
   ]
  },
  {
   "cell_type": "code",
   "execution_count": 446,
   "metadata": {},
   "outputs": [],
   "source": [
    "l = 4"
   ]
  },
  {
   "cell_type": "code",
   "execution_count": 448,
   "metadata": {},
   "outputs": [
    {
     "name": "stdout",
     "output_type": "stream",
     "text": [
      "0\n",
      "1\n",
      "2\n",
      "3\n"
     ]
    }
   ],
   "source": [
    "for i in range(l):\n",
    "    print(i)"
   ]
  },
  {
   "cell_type": "code",
   "execution_count": 450,
   "metadata": {},
   "outputs": [],
   "source": [
    "list = [[1,2,3],[2,2,3],[3,3,3]]"
   ]
  },
  {
   "cell_type": "code",
   "execution_count": 451,
   "metadata": {},
   "outputs": [
    {
     "data": {
      "text/plain": [
       "[1, 2, 3]"
      ]
     },
     "execution_count": 451,
     "metadata": {},
     "output_type": "execute_result"
    }
   ],
   "source": [
    "list.pop(0)"
   ]
  },
  {
   "cell_type": "code",
   "execution_count": 452,
   "metadata": {},
   "outputs": [
    {
     "data": {
      "text/plain": [
       "[[2, 2, 3], [3, 3, 3]]"
      ]
     },
     "execution_count": 452,
     "metadata": {},
     "output_type": "execute_result"
    }
   ],
   "source": [
    "list"
   ]
  },
  {
   "cell_type": "code",
   "execution_count": 461,
   "metadata": {},
   "outputs": [],
   "source": [
    "list.append(['','',''])"
   ]
  },
  {
   "cell_type": "code",
   "execution_count": 454,
   "metadata": {},
   "outputs": [
    {
     "data": {
      "text/plain": [
       "[[2, 2, 3], [3, 3, 3], []]"
      ]
     },
     "execution_count": 454,
     "metadata": {},
     "output_type": "execute_result"
    }
   ],
   "source": [
    "list"
   ]
  },
  {
   "cell_type": "code",
   "execution_count": 459,
   "metadata": {},
   "outputs": [
    {
     "data": {
      "text/plain": [
       "[]"
      ]
     },
     "execution_count": 459,
     "metadata": {},
     "output_type": "execute_result"
    }
   ],
   "source": [
    "list[2]"
   ]
  },
  {
   "cell_type": "code",
   "execution_count": 471,
   "metadata": {},
   "outputs": [],
   "source": [
    "mylist = [[1,2,3],\n",
    "          [4,5,6],\n",
    "          [7,8,9]]"
   ]
  },
  {
   "cell_type": "code",
   "execution_count": 472,
   "metadata": {},
   "outputs": [],
   "source": [
    "n = len(mylist)"
   ]
  },
  {
   "cell_type": "code",
   "execution_count": 480,
   "metadata": {},
   "outputs": [
    {
     "name": "stdout",
     "output_type": "stream",
     "text": [
      "[[7, 8, 9], [4, 5, 6], [1, 2, 3]]\n",
      "[[7, 4, 9], [8, 5, 6], [1, 2, 3]]\n",
      "[[7, 4, 1], [8, 5, 6], [9, 2, 3]]\n",
      "[[7, 4, 1], [8, 5, 6], [9, 2, 3]]\n",
      "[[7, 4, 1], [8, 5, 6], [9, 2, 3]]\n",
      "[[7, 4, 1], [8, 5, 2], [9, 6, 3]]\n",
      "[[7, 4, 1], [8, 5, 2], [9, 6, 3]]\n",
      "[[7, 4, 1], [8, 5, 2], [9, 6, 3]]\n",
      "[[7, 4, 1], [8, 5, 2], [9, 6, 3]]\n"
     ]
    }
   ],
   "source": [
    "for i in range(n):\n",
    "    for j in range(n):\n",
    "        if i < j:\n",
    "            mylist[i][j],mylist[j][i] = mylist[j][i],mylist[i][j]\n",
    "        print(mylist)"
   ]
  },
  {
   "cell_type": "code",
   "execution_count": 474,
   "metadata": {},
   "outputs": [
    {
     "data": {
      "text/plain": [
       "[[1, 4, 7], [2, 5, 8], [3, 6, 9]]"
      ]
     },
     "execution_count": 474,
     "metadata": {},
     "output_type": "execute_result"
    }
   ],
   "source": [
    "mylist"
   ]
  },
  {
   "cell_type": "code",
   "execution_count": 475,
   "metadata": {},
   "outputs": [],
   "source": [
    "for l in mylist:\n",
    "    l.reverse()"
   ]
  },
  {
   "cell_type": "code",
   "execution_count": 476,
   "metadata": {},
   "outputs": [
    {
     "data": {
      "text/plain": [
       "[[7, 4, 1], [8, 5, 2], [9, 6, 3]]"
      ]
     },
     "execution_count": 476,
     "metadata": {},
     "output_type": "execute_result"
    }
   ],
   "source": [
    "mylist"
   ]
  },
  {
   "cell_type": "code",
   "execution_count": 481,
   "metadata": {},
   "outputs": [
    {
     "ename": "TypeError",
     "evalue": "cannot unpack non-iterable int object",
     "output_type": "error",
     "traceback": [
      "\u001b[0;31m---------------------------------------------------------------------------\u001b[0m",
      "\u001b[0;31mTypeError\u001b[0m                                 Traceback (most recent call last)",
      "\u001b[0;32m<ipython-input-481-9ddffd30c937>\u001b[0m in \u001b[0;36m<module>\u001b[0;34m\u001b[0m\n\u001b[0;32m----> 1\u001b[0;31m \u001b[0mpt1\u001b[0m\u001b[0;34m,\u001b[0m \u001b[0mpt2\u001b[0m \u001b[0;34m=\u001b[0m \u001b[0;36m0\u001b[0m\u001b[0;34m\u001b[0m\u001b[0;34m\u001b[0m\u001b[0m\n\u001b[0m",
      "\u001b[0;31mTypeError\u001b[0m: cannot unpack non-iterable int object"
     ]
    }
   ],
   "source": [
    "pt1, pt2 = 0"
   ]
  },
  {
   "cell_type": "code",
   "execution_count": 539,
   "metadata": {},
   "outputs": [],
   "source": [
    "class Solution(object):\n",
    "    def merge(self, nums1, m, nums2, n):\n",
    "        while m > 0 and n > 0:\n",
    "            if nums1[m - 1] > nums2[n - 1]:\n",
    "                nums1[m + n - 1] = nums1[m - 1]\n",
    "                print(nums1)\n",
    "                m -= 1\n",
    "            else:\n",
    "                nums1[m + n - 1] = nums2[n - 1]\n",
    "                print(nums1)\n",
    "                n -= 1\n",
    "        nums1[:n] = nums2[:n]\n",
    "        print(nums1)"
   ]
  },
  {
   "cell_type": "code",
   "execution_count": 540,
   "metadata": {},
   "outputs": [],
   "source": [
    "solution = Solution()"
   ]
  },
  {
   "cell_type": "code",
   "execution_count": 541,
   "metadata": {},
   "outputs": [
    {
     "name": "stdout",
     "output_type": "stream",
     "text": [
      "[1, 2, 3, 4, 0, 0, 6]\n",
      "[1, 2, 3, 4, 0, 5, 6]\n",
      "[1, 2, 3, 4, 4, 5, 6]\n",
      "[1, 2, 3, 3, 4, 5, 6]\n",
      "[1, 2, 3, 3, 4, 5, 6]\n"
     ]
    }
   ],
   "source": [
    "solution.merge([1,2,3,4,0,0,0],4,[3,5,6],3)"
   ]
  },
  {
   "cell_type": "code",
   "execution_count": 551,
   "metadata": {},
   "outputs": [],
   "source": [
    "nums = [1,2,3,4,0,0,0]\n",
    "num2 = [3,5,6]"
   ]
  },
  {
   "cell_type": "code",
   "execution_count": 545,
   "metadata": {},
   "outputs": [],
   "source": [
    "nums[:3] = num2[:3]"
   ]
  },
  {
   "cell_type": "code",
   "execution_count": 546,
   "metadata": {},
   "outputs": [
    {
     "data": {
      "text/plain": [
       "[3, 5, 6, 4, 0, 0, 0]"
      ]
     },
     "execution_count": 546,
     "metadata": {},
     "output_type": "execute_result"
    }
   ],
   "source": [
    "nums"
   ]
  },
  {
   "cell_type": "code",
   "execution_count": 547,
   "metadata": {},
   "outputs": [
    {
     "data": {
      "text/plain": [
       "[3, 5, 6, 4, 0, 0, 0]"
      ]
     },
     "execution_count": 547,
     "metadata": {},
     "output_type": "execute_result"
    }
   ],
   "source": [
    "nums"
   ]
  },
  {
   "cell_type": "code",
   "execution_count": 548,
   "metadata": {},
   "outputs": [
    {
     "data": {
      "text/plain": [
       "[3, 5, 6]"
      ]
     },
     "execution_count": 548,
     "metadata": {},
     "output_type": "execute_result"
    }
   ],
   "source": [
    "nums[:3]"
   ]
  },
  {
   "cell_type": "code",
   "execution_count": 549,
   "metadata": {},
   "outputs": [
    {
     "data": {
      "text/plain": [
       "[3, 5, 6]"
      ]
     },
     "execution_count": 549,
     "metadata": {},
     "output_type": "execute_result"
    }
   ],
   "source": [
    "num2"
   ]
  },
  {
   "cell_type": "code",
   "execution_count": 550,
   "metadata": {},
   "outputs": [
    {
     "data": {
      "text/plain": [
       "[3, 5, 6]"
      ]
     },
     "execution_count": 550,
     "metadata": {},
     "output_type": "execute_result"
    }
   ],
   "source": [
    "num2[:3]"
   ]
  },
  {
   "cell_type": "code",
   "execution_count": 560,
   "metadata": {},
   "outputs": [],
   "source": [
    "    def majorityElement(nums):\n",
    "        majority_count = len(nums)//2\n",
    "        for num in nums:\n",
    "            count = sum(1 for elem in nums if elem == num)\n",
    "            print(count)\n",
    "            if count > majority_count:\n",
    "                return num"
   ]
  },
  {
   "cell_type": "code",
   "execution_count": 561,
   "metadata": {},
   "outputs": [
    {
     "name": "stdout",
     "output_type": "stream",
     "text": [
      "2\n",
      "2\n",
      "3\n"
     ]
    },
    {
     "data": {
      "text/plain": [
       "2"
      ]
     },
     "execution_count": 561,
     "metadata": {},
     "output_type": "execute_result"
    }
   ],
   "source": [
    "majorityElement([1,1,2,2,2])"
   ]
  },
  {
   "cell_type": "code",
   "execution_count": 562,
   "metadata": {},
   "outputs": [],
   "source": [
    "row_num = 6\n",
    "row = [None for _ in range(row_num+1)]"
   ]
  },
  {
   "cell_type": "code",
   "execution_count": 563,
   "metadata": {},
   "outputs": [
    {
     "data": {
      "text/plain": [
       "[None, None, None, None, None, None, None]"
      ]
     },
     "execution_count": 563,
     "metadata": {},
     "output_type": "execute_result"
    }
   ],
   "source": [
    "row"
   ]
  },
  {
   "cell_type": "code",
   "execution_count": 565,
   "metadata": {},
   "outputs": [
    {
     "data": {
      "text/plain": [
       "7"
      ]
     },
     "execution_count": 565,
     "metadata": {},
     "output_type": "execute_result"
    }
   ],
   "source": [
    "len(row)"
   ]
  },
  {
   "cell_type": "code",
   "execution_count": 568,
   "metadata": {},
   "outputs": [
    {
     "name": "stdout",
     "output_type": "stream",
     "text": [
      "1\n",
      "1\n",
      "1\n",
      "1\n",
      "1\n",
      "1\n",
      "1\n"
     ]
    }
   ],
   "source": [
    "for i in range(len(row)):\n",
    "    print(1)\n"
   ]
  },
  {
   "cell_type": "code",
   "execution_count": 569,
   "metadata": {},
   "outputs": [
    {
     "data": {
      "text/plain": [
       "range(0, 1)"
      ]
     },
     "execution_count": 569,
     "metadata": {},
     "output_type": "execute_result"
    }
   ],
   "source": [
    "range(1)"
   ]
  },
  {
   "cell_type": "code",
   "execution_count": 570,
   "metadata": {},
   "outputs": [
    {
     "name": "stdout",
     "output_type": "stream",
     "text": [
      "1\n"
     ]
    }
   ],
   "source": [
    "for i in range(1):\n",
    "    print(1)"
   ]
  },
  {
   "cell_type": "code",
   "execution_count": 581,
   "metadata": {},
   "outputs": [],
   "source": [
    "s = 'IIIV'"
   ]
  },
  {
   "cell_type": "code",
   "execution_count": 583,
   "metadata": {},
   "outputs": [
    {
     "name": "stdout",
     "output_type": "stream",
     "text": [
      "1\n"
     ]
    }
   ],
   "source": [
    "if 'IV' in s:\n",
    "    print(1)\n"
   ]
  },
  {
   "cell_type": "code",
   "execution_count": 584,
   "metadata": {},
   "outputs": [
    {
     "data": {
      "text/plain": [
       "'II'"
      ]
     },
     "execution_count": 584,
     "metadata": {},
     "output_type": "execute_result"
    }
   ],
   "source": [
    "s.replace('IV','')"
   ]
  },
  {
   "cell_type": "code",
   "execution_count": 585,
   "metadata": {},
   "outputs": [
    {
     "data": {
      "text/plain": [
       "'IIIV'"
      ]
     },
     "execution_count": 585,
     "metadata": {},
     "output_type": "execute_result"
    }
   ],
   "source": [
    "s"
   ]
  },
  {
   "cell_type": "code",
   "execution_count": 586,
   "metadata": {},
   "outputs": [],
   "source": [
    " roman = {\n",
    "            'I': 1,\n",
    "            'V': 5,\n",
    "            'X': 10,\n",
    "            'L': 50,\n",
    "            'C': 100,\n",
    "            'D': 500,\n",
    "            'M': 1000\n",
    "        }"
   ]
  },
  {
   "cell_type": "code",
   "execution_count": 588,
   "metadata": {},
   "outputs": [
    {
     "data": {
      "text/plain": [
       "1"
      ]
     },
     "execution_count": 588,
     "metadata": {},
     "output_type": "execute_result"
    }
   ],
   "source": [
    "roman['I']"
   ]
  },
  {
   "cell_type": "code",
   "execution_count": 589,
   "metadata": {},
   "outputs": [],
   "source": [
    "s = ''"
   ]
  },
  {
   "cell_type": "code",
   "execution_count": 590,
   "metadata": {},
   "outputs": [],
   "source": [
    "s += 'a'"
   ]
  },
  {
   "cell_type": "code",
   "execution_count": 591,
   "metadata": {},
   "outputs": [
    {
     "data": {
      "text/plain": [
       "'a'"
      ]
     },
     "execution_count": 591,
     "metadata": {},
     "output_type": "execute_result"
    }
   ],
   "source": [
    "s"
   ]
  },
  {
   "cell_type": "code",
   "execution_count": 592,
   "metadata": {},
   "outputs": [
    {
     "data": {
      "text/plain": [
       "2"
      ]
     },
     "execution_count": 592,
     "metadata": {},
     "output_type": "execute_result"
    }
   ],
   "source": [
    "s = ['aa','ab']\n",
    "len(s)"
   ]
  },
  {
   "cell_type": "code",
   "execution_count": 599,
   "metadata": {},
   "outputs": [],
   "source": [
    "class Solution(object):\n",
    "    def longestCommonPrefix(self, strs):\n",
    "        \"\"\"\n",
    "        :type strs: List[str]\n",
    "        :rtype: str\n",
    "        \"\"\"\n",
    "        res = ''\n",
    "        \n",
    "        try:\n",
    "            if strs == []:\n",
    "                return res\n",
    "            elif len(strs) == 1:\n",
    "                return strs[0]\n",
    "        except IndexError:\n",
    "            return res\n",
    "        \n",
    "        \n",
    "        for letter in strs[0]:\n",
    "            count = 0\n",
    "            print(letter)\n",
    "            for string in strs[1:]:\n",
    "                print(string)\n",
    "                if letter in string:\n",
    "                    \n",
    "                    count += 1\n",
    "                    string = string.replace(letter,'')\n",
    "                    print(string)\n",
    "                    if count == len(strs) - 1:\n",
    "                        res += letter\n",
    "                    \n",
    "        return res"
   ]
  },
  {
   "cell_type": "code",
   "execution_count": 600,
   "metadata": {},
   "outputs": [],
   "source": [
    "solution = Solution()"
   ]
  },
  {
   "cell_type": "code",
   "execution_count": 601,
   "metadata": {},
   "outputs": [
    {
     "name": "stdout",
     "output_type": "stream",
     "text": [
      "a\n",
      "ab\n",
      "b\n",
      "a\n",
      "ab\n",
      "b\n"
     ]
    },
    {
     "data": {
      "text/plain": [
       "'aa'"
      ]
     },
     "execution_count": 601,
     "metadata": {},
     "output_type": "execute_result"
    }
   ],
   "source": [
    "solution.longestCommonPrefix(s)"
   ]
  },
  {
   "cell_type": "code",
   "execution_count": 602,
   "metadata": {},
   "outputs": [],
   "source": [
    "string = 'a'"
   ]
  },
  {
   "cell_type": "code",
   "execution_count": 603,
   "metadata": {},
   "outputs": [
    {
     "data": {
      "text/plain": [
       "'a'"
      ]
     },
     "execution_count": 603,
     "metadata": {},
     "output_type": "execute_result"
    }
   ],
   "source": [
    "string"
   ]
  },
  {
   "cell_type": "code",
   "execution_count": 604,
   "metadata": {},
   "outputs": [],
   "source": [
    "string = 'ab'"
   ]
  },
  {
   "cell_type": "code",
   "execution_count": 605,
   "metadata": {},
   "outputs": [
    {
     "data": {
      "text/plain": [
       "'ab'"
      ]
     },
     "execution_count": 605,
     "metadata": {},
     "output_type": "execute_result"
    }
   ],
   "source": [
    "string"
   ]
  },
  {
   "cell_type": "code",
   "execution_count": 610,
   "metadata": {},
   "outputs": [],
   "source": [
    "strs = ['aa','ab']\n"
   ]
  },
  {
   "cell_type": "code",
   "execution_count": 607,
   "metadata": {},
   "outputs": [
    {
     "data": {
      "text/plain": [
       "<zip at 0x7ff3281b0d08>"
      ]
     },
     "execution_count": 607,
     "metadata": {},
     "output_type": "execute_result"
    }
   ],
   "source": [
    "sz"
   ]
  },
  {
   "cell_type": "code",
   "execution_count": 608,
   "metadata": {},
   "outputs": [
    {
     "data": {
      "text/plain": [
       "''"
      ]
     },
     "execution_count": 608,
     "metadata": {},
     "output_type": "execute_result"
    }
   ],
   "source": [
    "ret"
   ]
  },
  {
   "cell_type": "code",
   "execution_count": 609,
   "metadata": {},
   "outputs": [
    {
     "name": "stdout",
     "output_type": "stream",
     "text": [
      "<zip object at 0x7ff3281b0d08>\n"
     ]
    }
   ],
   "source": [
    "print(sz)"
   ]
  },
  {
   "cell_type": "code",
   "execution_count": 611,
   "metadata": {},
   "outputs": [
    {
     "name": "stdout",
     "output_type": "stream",
     "text": [
      "('a', 'a')\n",
      "('a', 'b')\n"
     ]
    }
   ],
   "source": [
    "for z in zip(*strs):\n",
    "    print(z)\n",
    "    "
   ]
  },
  {
   "cell_type": "code",
   "execution_count": 612,
   "metadata": {},
   "outputs": [
    {
     "data": {
      "text/plain": [
       "{'a'}"
      ]
     },
     "execution_count": 612,
     "metadata": {},
     "output_type": "execute_result"
    }
   ],
   "source": [
    "set(('a','a'))"
   ]
  },
  {
   "cell_type": "code",
   "execution_count": 613,
   "metadata": {},
   "outputs": [
    {
     "data": {
      "text/plain": [
       "{'a', 'b'}"
      ]
     },
     "execution_count": 613,
     "metadata": {},
     "output_type": "execute_result"
    }
   ],
   "source": [
    "set(('a','b'))"
   ]
  },
  {
   "cell_type": "code",
   "execution_count": 617,
   "metadata": {},
   "outputs": [],
   "source": [
    "class Solution(object):\n",
    "    def longestCommonPrefix(self, strs):\n",
    "        \"\"\"\n",
    "        :type strs: List[str]; rtype: str\n",
    "        \"\"\"\n",
    "        sz, ret = zip(*strs), \"\"\n",
    "        # looping corrected based on @StefanPochmann's comment below\n",
    "        for c in sz:\n",
    "            print(c)\n",
    "            if len(set(c)) > 1: break\n",
    "            ret += c[0]\n",
    "            print(ret)\n",
    "        return ret"
   ]
  },
  {
   "cell_type": "code",
   "execution_count": 618,
   "metadata": {},
   "outputs": [],
   "source": [
    "solution = Solution()"
   ]
  },
  {
   "cell_type": "code",
   "execution_count": 621,
   "metadata": {},
   "outputs": [
    {
     "name": "stdout",
     "output_type": "stream",
     "text": [
      "('g', 'f')\n"
     ]
    },
    {
     "data": {
      "text/plain": [
       "''"
      ]
     },
     "execution_count": 621,
     "metadata": {},
     "output_type": "execute_result"
    }
   ],
   "source": [
    "solution.longestCommonPrefix([\"geeks\",\"forgeeks\"])"
   ]
  },
  {
   "cell_type": "code",
   "execution_count": 622,
   "metadata": {},
   "outputs": [
    {
     "data": {
      "text/plain": [
       "'()'"
      ]
     },
     "execution_count": 622,
     "metadata": {},
     "output_type": "execute_result"
    }
   ],
   "source": [
    "s = '('\n",
    "b = ')'\n",
    "s+b"
   ]
  },
  {
   "cell_type": "code",
   "execution_count": 623,
   "metadata": {},
   "outputs": [
    {
     "data": {
      "text/plain": [
       "2"
      ]
     },
     "execution_count": 623,
     "metadata": {},
     "output_type": "execute_result"
    }
   ],
   "source": [
    "len(s+b)"
   ]
  },
  {
   "cell_type": "code",
   "execution_count": 625,
   "metadata": {},
   "outputs": [],
   "source": [
    "mapping = {')':'(','}':'{',']':'['}"
   ]
  },
  {
   "cell_type": "code",
   "execution_count": 627,
   "metadata": {},
   "outputs": [
    {
     "data": {
      "text/plain": [
       "'{'"
      ]
     },
     "execution_count": 627,
     "metadata": {},
     "output_type": "execute_result"
    }
   ],
   "source": [
    "mapping['}']"
   ]
  },
  {
   "cell_type": "code",
   "execution_count": 632,
   "metadata": {},
   "outputs": [],
   "source": [
    "haystack = 'hello'\n",
    "needle = 'll'"
   ]
  },
  {
   "cell_type": "code",
   "execution_count": 633,
   "metadata": {},
   "outputs": [
    {
     "name": "stdout",
     "output_type": "stream",
     "text": [
      "1\n"
     ]
    }
   ],
   "source": [
    "if needle in haystack:\n",
    "    print(1)"
   ]
  },
  {
   "cell_type": "code",
   "execution_count": 641,
   "metadata": {},
   "outputs": [],
   "source": [
    "for i in range(len(haystack)):\n",
    "    s = zip('i',haystack[i])"
   ]
  },
  {
   "cell_type": "code",
   "execution_count": 645,
   "metadata": {},
   "outputs": [
    {
     "name": "stdout",
     "output_type": "stream",
     "text": [
      "1\n"
     ]
    }
   ],
   "source": [
    "for index in range(1,2):\n",
    "    print(1)"
   ]
  },
  {
   "cell_type": "markdown",
   "metadata": {},
   "source": [
    "s = ‘st, with ,dsinf’"
   ]
  },
  {
   "cell_type": "code",
   "execution_count": 672,
   "metadata": {},
   "outputs": [],
   "source": [
    "s = 'st, s'"
   ]
  },
  {
   "cell_type": "code",
   "execution_count": null,
   "metadata": {},
   "outputs": [],
   "source": []
  },
  {
   "cell_type": "code",
   "execution_count": 681,
   "metadata": {},
   "outputs": [],
   "source": [
    "out = \"\".join(c for c in s if c not in ('!','.',':',',',' '))"
   ]
  },
  {
   "cell_type": "code",
   "execution_count": 682,
   "metadata": {},
   "outputs": [
    {
     "data": {
      "text/plain": [
       "'sts'"
      ]
     },
     "execution_count": 682,
     "metadata": {},
     "output_type": "execute_result"
    }
   ],
   "source": [
    "out"
   ]
  },
  {
   "cell_type": "code",
   "execution_count": 679,
   "metadata": {},
   "outputs": [],
   "source": [
    "in1 = out[::-1]"
   ]
  },
  {
   "cell_type": "code",
   "execution_count": 680,
   "metadata": {},
   "outputs": [],
   "source": [
    "if in1 == out:\n",
    "    print(1)"
   ]
  },
  {
   "cell_type": "code",
   "execution_count": null,
   "metadata": {},
   "outputs": [],
   "source": []
  },
  {
   "cell_type": "code",
   "execution_count": 683,
   "metadata": {},
   "outputs": [],
   "source": [
    "temp = []\n"
   ]
  },
  {
   "cell_type": "code",
   "execution_count": 684,
   "metadata": {},
   "outputs": [],
   "source": [
    "temp = '-1'"
   ]
  },
  {
   "cell_type": "code",
   "execution_count": 685,
   "metadata": {},
   "outputs": [
    {
     "data": {
      "text/plain": [
       "'-1'"
      ]
     },
     "execution_count": 685,
     "metadata": {},
     "output_type": "execute_result"
    }
   ],
   "source": [
    "temp\n"
   ]
  },
  {
   "cell_type": "code",
   "execution_count": 686,
   "metadata": {},
   "outputs": [],
   "source": [
    "temp = ['-1,2,3']"
   ]
  },
  {
   "cell_type": "code",
   "execution_count": 687,
   "metadata": {},
   "outputs": [
    {
     "data": {
      "text/plain": [
       "['-1,2,3']"
      ]
     },
     "execution_count": 687,
     "metadata": {},
     "output_type": "execute_result"
    }
   ],
   "source": [
    "temp\n"
   ]
  },
  {
   "cell_type": "code",
   "execution_count": 688,
   "metadata": {},
   "outputs": [],
   "source": [
    "temp.append('-1,2,3')"
   ]
  },
  {
   "cell_type": "code",
   "execution_count": 689,
   "metadata": {},
   "outputs": [
    {
     "data": {
      "text/plain": [
       "['-1,2,3', '-1,2,3']"
      ]
     },
     "execution_count": 689,
     "metadata": {},
     "output_type": "execute_result"
    }
   ],
   "source": [
    "temp"
   ]
  },
  {
   "cell_type": "code",
   "execution_count": 690,
   "metadata": {},
   "outputs": [],
   "source": [
    "num, num1, num2 = 1,2,3"
   ]
  },
  {
   "cell_type": "code",
   "execution_count": 696,
   "metadata": {},
   "outputs": [],
   "source": [
    "temp += [num,num1,num2]"
   ]
  },
  {
   "cell_type": "code",
   "execution_count": 697,
   "metadata": {},
   "outputs": [
    {
     "data": {
      "text/plain": [
       "['-1,2,3', '-1,2,3', 1, 2, 3, 'num,num1,num2', 1, 2, 3]"
      ]
     },
     "execution_count": 697,
     "metadata": {},
     "output_type": "execute_result"
    }
   ],
   "source": [
    "temp"
   ]
  },
  {
   "cell_type": "code",
   "execution_count": 698,
   "metadata": {},
   "outputs": [],
   "source": [
    "a = [1,2,3]"
   ]
  },
  {
   "cell_type": "code",
   "execution_count": 699,
   "metadata": {},
   "outputs": [
    {
     "data": {
      "text/plain": [
       "['-1,2,3', '-1,2,3', 1, 2, 3, 'num,num1,num2', 1, 2, 3, 1, 2, 3]"
      ]
     },
     "execution_count": 699,
     "metadata": {},
     "output_type": "execute_result"
    }
   ],
   "source": [
    "temp + a"
   ]
  },
  {
   "cell_type": "code",
   "execution_count": 700,
   "metadata": {},
   "outputs": [],
   "source": [
    "del temp"
   ]
  },
  {
   "cell_type": "code",
   "execution_count": 702,
   "metadata": {},
   "outputs": [],
   "source": [
    "temp = [[]]"
   ]
  },
  {
   "cell_type": "code",
   "execution_count": 703,
   "metadata": {},
   "outputs": [
    {
     "data": {
      "text/plain": [
       "[[]]"
      ]
     },
     "execution_count": 703,
     "metadata": {},
     "output_type": "execute_result"
    }
   ],
   "source": [
    "temp"
   ]
  },
  {
   "cell_type": "code",
   "execution_count": 704,
   "metadata": {},
   "outputs": [
    {
     "data": {
      "text/plain": [
       "[[], 1, 2, 3]"
      ]
     },
     "execution_count": 704,
     "metadata": {},
     "output_type": "execute_result"
    }
   ],
   "source": [
    "temp + a"
   ]
  },
  {
   "cell_type": "code",
   "execution_count": 705,
   "metadata": {},
   "outputs": [],
   "source": [
    "temp = [[-1,-1,2],[-1,0,1],[-1,-1,2],[-1,0,1],[0,-1,1],[1,-1,0],[2,-4,2],[2,-1,-1]]"
   ]
  },
  {
   "cell_type": "code",
   "execution_count": 706,
   "metadata": {},
   "outputs": [
    {
     "ename": "TypeError",
     "evalue": "unhashable type: 'list'",
     "output_type": "error",
     "traceback": [
      "\u001b[0;31m---------------------------------------------------------------------------\u001b[0m",
      "\u001b[0;31mTypeError\u001b[0m                                 Traceback (most recent call last)",
      "\u001b[0;32m<ipython-input-706-e39f32b1b80e>\u001b[0m in \u001b[0;36m<module>\u001b[0;34m\u001b[0m\n\u001b[0;32m----> 1\u001b[0;31m \u001b[0mset\u001b[0m\u001b[0;34m(\u001b[0m\u001b[0mtemp\u001b[0m\u001b[0;34m)\u001b[0m\u001b[0;34m\u001b[0m\u001b[0;34m\u001b[0m\u001b[0m\n\u001b[0m",
      "\u001b[0;31mTypeError\u001b[0m: unhashable type: 'list'"
     ]
    }
   ],
   "source": [
    "set(temp)"
   ]
  },
  {
   "cell_type": "code",
   "execution_count": 707,
   "metadata": {},
   "outputs": [],
   "source": [
    "a = [1,2,3]"
   ]
  },
  {
   "cell_type": "code",
   "execution_count": 708,
   "metadata": {},
   "outputs": [],
   "source": [
    "b = a.index(1)"
   ]
  },
  {
   "cell_type": "code",
   "execution_count": 709,
   "metadata": {},
   "outputs": [
    {
     "data": {
      "text/plain": [
       "0"
      ]
     },
     "execution_count": 709,
     "metadata": {},
     "output_type": "execute_result"
    }
   ],
   "source": [
    "b"
   ]
  },
  {
   "cell_type": "code",
   "execution_count": 2,
   "metadata": {},
   "outputs": [],
   "source": [
    "a = {'s':2}"
   ]
  },
  {
   "cell_type": "code",
   "execution_count": 12,
   "metadata": {},
   "outputs": [
    {
     "ename": "KeyError",
     "evalue": "'2'",
     "output_type": "error",
     "traceback": [
      "\u001b[0;31m---------------------------------------------------------------------------\u001b[0m",
      "\u001b[0;31mKeyError\u001b[0m                                  Traceback (most recent call last)",
      "\u001b[0;32m<ipython-input-12-089cee6234bf>\u001b[0m in \u001b[0;36m<module>\u001b[0;34m\u001b[0m\n\u001b[0;32m----> 1\u001b[0;31m \u001b[0;34m(\u001b[0m\u001b[0ma\u001b[0m\u001b[0;34m[\u001b[0m\u001b[0;34m'2'\u001b[0m\u001b[0;34m]\u001b[0m\u001b[0;34m)\u001b[0m\u001b[0;34m\u001b[0m\u001b[0;34m\u001b[0m\u001b[0m\n\u001b[0m",
      "\u001b[0;31mKeyError\u001b[0m: '2'"
     ]
    }
   ],
   "source": [
    "(a['2'])"
   ]
  },
  {
   "cell_type": "code",
   "execution_count": 13,
   "metadata": {},
   "outputs": [],
   "source": [
    "s = 'leetcode'"
   ]
  },
  {
   "cell_type": "code",
   "execution_count": 15,
   "metadata": {},
   "outputs": [],
   "source": [
    "i = s.find('e')"
   ]
  },
  {
   "cell_type": "code",
   "execution_count": 16,
   "metadata": {},
   "outputs": [
    {
     "data": {
      "text/plain": [
       "1"
      ]
     },
     "execution_count": 16,
     "metadata": {},
     "output_type": "execute_result"
    }
   ],
   "source": [
    "i"
   ]
  },
  {
   "cell_type": "code",
   "execution_count": 17,
   "metadata": {},
   "outputs": [],
   "source": [
    "j = s.rfind('e')"
   ]
  },
  {
   "cell_type": "code",
   "execution_count": 18,
   "metadata": {},
   "outputs": [
    {
     "data": {
      "text/plain": [
       "7"
      ]
     },
     "execution_count": 18,
     "metadata": {},
     "output_type": "execute_result"
    }
   ],
   "source": [
    "j"
   ]
  },
  {
   "cell_type": "code",
   "execution_count": 33,
   "metadata": {},
   "outputs": [],
   "source": [
    "class Solution(object):\n",
    "    def firstUniqChar(self, s):\n",
    "        res = len(s)\n",
    "        for c in \"abcdefghijklmnopqrstuvwxyz\":\n",
    "            i = s.find(c)\n",
    "            if i == s.rfind(c):\n",
    "                return i\n",
    "        return -1"
   ]
  },
  {
   "cell_type": "code",
   "execution_count": 34,
   "metadata": {},
   "outputs": [],
   "source": [
    "solution = Solution()"
   ]
  },
  {
   "cell_type": "code",
   "execution_count": 35,
   "metadata": {},
   "outputs": [
    {
     "data": {
      "text/plain": [
       "6"
      ]
     },
     "execution_count": 35,
     "metadata": {},
     "output_type": "execute_result"
    }
   ],
   "source": [
    "solution.firstUniqChar('aabbccd')"
   ]
  },
  {
   "cell_type": "code",
   "execution_count": 36,
   "metadata": {},
   "outputs": [],
   "source": [
    "class Solution:\n",
    "    # @return a tuple, (index1, index2)\n",
    "    # 8:42\n",
    "    def twoSum(self, num, target):\n",
    "        map = {}\n",
    "        for i in range(len(num)):\n",
    "            if num[i] not in map:\n",
    "                map[target - num[i]] = i + 1\n",
    "            else:\n",
    "                return map[num[i]], i + 1\n",
    "\n",
    "        return -1, -1"
   ]
  },
  {
   "cell_type": "code",
   "execution_count": 37,
   "metadata": {},
   "outputs": [],
   "source": [
    "solution = Solution()"
   ]
  },
  {
   "cell_type": "code",
   "execution_count": 41,
   "metadata": {},
   "outputs": [
    {
     "data": {
      "text/plain": [
       "(1, 2)"
      ]
     },
     "execution_count": 41,
     "metadata": {},
     "output_type": "execute_result"
    }
   ],
   "source": [
    "solution.twoSum([2,7,11,15],9)"
   ]
  },
  {
   "cell_type": "code",
   "execution_count": 42,
   "metadata": {},
   "outputs": [],
   "source": [
    "n = 3\n",
    "res = [True] * n"
   ]
  },
  {
   "cell_type": "code",
   "execution_count": 43,
   "metadata": {},
   "outputs": [
    {
     "data": {
      "text/plain": [
       "[True, True, True]"
      ]
     },
     "execution_count": 43,
     "metadata": {},
     "output_type": "execute_result"
    }
   ],
   "source": [
    "res"
   ]
  },
  {
   "cell_type": "code",
   "execution_count": 49,
   "metadata": {},
   "outputs": [],
   "source": [
    "n = 10\n",
    "primes = [True] * n\n",
    "primes[0] = primes[1] = False"
   ]
  },
  {
   "cell_type": "code",
   "execution_count": 54,
   "metadata": {},
   "outputs": [],
   "source": [
    "primes[2**2:n:2] = [False] * len(primes[2**2:n:2])"
   ]
  },
  {
   "cell_type": "code",
   "execution_count": 55,
   "metadata": {},
   "outputs": [
    {
     "name": "stdout",
     "output_type": "stream",
     "text": [
      "[False, False, True, True, False, True, False, True, False, True]\n"
     ]
    },
    {
     "data": {
      "text/plain": [
       "5"
      ]
     },
     "execution_count": 55,
     "metadata": {},
     "output_type": "execute_result"
    }
   ],
   "source": [
    "print(primes)\n",
    "sum(primes)"
   ]
  },
  {
   "cell_type": "code",
   "execution_count": 75,
   "metadata": {},
   "outputs": [],
   "source": [
    "def isAnagram( s, t):\n",
    "    \"\"\"\n",
    "    :type s: str\n",
    "    :type t: str\n",
    "    :rtype: bool\n",
    "    \"\"\"\n",
    "    if len(s)==len(t):\n",
    "        for char in set(s):\n",
    "            if s.count(char)!=t.count(char):\n",
    "                \n",
    "                return False\n",
    "        return True\n",
    "    else:\n",
    "        return False"
   ]
  },
  {
   "cell_type": "code",
   "execution_count": 76,
   "metadata": {},
   "outputs": [
    {
     "name": "stdout",
     "output_type": "stream",
     "text": [
      "7\n",
      "7\n",
      "7\n",
      "7\n",
      "7\n",
      "7\n",
      "7\n",
      "7\n",
      "7\n",
      "7\n"
     ]
    },
    {
     "data": {
      "text/plain": [
       "True"
      ]
     },
     "execution_count": 76,
     "metadata": {},
     "output_type": "execute_result"
    }
   ],
   "source": [
    "isAnagram('anagram','nagaram')"
   ]
  },
  {
   "cell_type": "code",
   "execution_count": 77,
   "metadata": {},
   "outputs": [
    {
     "ename": "NameError",
     "evalue": "name 'ListNode' is not defined",
     "output_type": "error",
     "traceback": [
      "\u001b[0;31m---------------------------------------------------------------------------\u001b[0m",
      "\u001b[0;31mNameError\u001b[0m                                 Traceback (most recent call last)",
      "\u001b[0;32m<ipython-input-77-5fac42ca8d1e>\u001b[0m in \u001b[0;36m<module>\u001b[0;34m\u001b[0m\n\u001b[0;32m----> 1\u001b[0;31m \u001b[0mhead\u001b[0m \u001b[0;34m=\u001b[0m \u001b[0mListNode\u001b[0m\u001b[0;34m(\u001b[0m\u001b[0;36m0\u001b[0m\u001b[0;34m)\u001b[0m\u001b[0;34m\u001b[0m\u001b[0;34m\u001b[0m\u001b[0m\n\u001b[0m\u001b[1;32m      2\u001b[0m \u001b[0mhead\u001b[0m\u001b[0;34m.\u001b[0m\u001b[0mnext\u001b[0m \u001b[0;34m=\u001b[0m \u001b[0mListNode\u001b[0m\u001b[0;34m(\u001b[0m\u001b[0;36m1\u001b[0m\u001b[0;34m)\u001b[0m\u001b[0;34m\u001b[0m\u001b[0;34m\u001b[0m\u001b[0m\n",
      "\u001b[0;31mNameError\u001b[0m: name 'ListNode' is not defined"
     ]
    }
   ],
   "source": []
  },
  {
   "cell_type": "code",
   "execution_count": 78,
   "metadata": {},
   "outputs": [],
   "source": [
    "x = 123"
   ]
  },
  {
   "cell_type": "code",
   "execution_count": 82,
   "metadata": {},
   "outputs": [
    {
     "data": {
      "text/plain": [
       "'123'"
      ]
     },
     "execution_count": 82,
     "metadata": {},
     "output_type": "execute_result"
    }
   ],
   "source": [
    "str(x)"
   ]
  },
  {
   "cell_type": "code",
   "execution_count": 83,
   "metadata": {},
   "outputs": [
    {
     "name": "stdout",
     "output_type": "stream",
     "text": [
      "1\n",
      "2\n",
      "3\n"
     ]
    }
   ],
   "source": [
    "for num in str(x):\n",
    "    print(num)"
   ]
  },
  {
   "cell_type": "code",
   "execution_count": 84,
   "metadata": {},
   "outputs": [
    {
     "ename": "TypeError",
     "evalue": "'int' object is not subscriptable",
     "output_type": "error",
     "traceback": [
      "\u001b[0;31m---------------------------------------------------------------------------\u001b[0m",
      "\u001b[0;31mTypeError\u001b[0m                                 Traceback (most recent call last)",
      "\u001b[0;32m<ipython-input-84-fc433e12835a>\u001b[0m in \u001b[0;36m<module>\u001b[0;34m\u001b[0m\n\u001b[0;32m----> 1\u001b[0;31m \u001b[0mx\u001b[0m\u001b[0;34m[\u001b[0m\u001b[0;34m:\u001b[0m\u001b[0;34m:\u001b[0m\u001b[0;34m-\u001b[0m\u001b[0;36m1\u001b[0m\u001b[0;34m]\u001b[0m\u001b[0;34m\u001b[0m\u001b[0;34m\u001b[0m\u001b[0m\n\u001b[0m",
      "\u001b[0;31mTypeError\u001b[0m: 'int' object is not subscriptable"
     ]
    }
   ],
   "source": [
    "x[::-1]"
   ]
  },
  {
   "cell_type": "code",
   "execution_count": 86,
   "metadata": {},
   "outputs": [],
   "source": [
    "mylist = '1,2,3'"
   ]
  },
  {
   "cell_type": "code",
   "execution_count": 87,
   "metadata": {},
   "outputs": [
    {
     "data": {
      "text/plain": [
       "5"
      ]
     },
     "execution_count": 87,
     "metadata": {},
     "output_type": "execute_result"
    }
   ],
   "source": [
    "len(mylist)"
   ]
  },
  {
   "cell_type": "code",
   "execution_count": 88,
   "metadata": {},
   "outputs": [
    {
     "data": {
      "text/plain": [
       "int"
      ]
     },
     "execution_count": 88,
     "metadata": {},
     "output_type": "execute_result"
    }
   ],
   "source": [
    "type(len(mylist))"
   ]
  },
  {
   "cell_type": "code",
   "execution_count": 89,
   "metadata": {},
   "outputs": [
    {
     "data": {
      "text/plain": [
       "'3,2,1'"
      ]
     },
     "execution_count": 89,
     "metadata": {},
     "output_type": "execute_result"
    }
   ],
   "source": [
    "mylist[::-1]"
   ]
  },
  {
   "cell_type": "code",
   "execution_count": 90,
   "metadata": {},
   "outputs": [
    {
     "data": {
      "text/plain": [
       "10"
      ]
     },
     "execution_count": 90,
     "metadata": {},
     "output_type": "execute_result"
    }
   ],
   "source": [
    "10 ** 1"
   ]
  },
  {
   "cell_type": "code",
   "execution_count": 91,
   "metadata": {},
   "outputs": [
    {
     "data": {
      "text/plain": [
       "1000"
      ]
     },
     "execution_count": 91,
     "metadata": {},
     "output_type": "execute_result"
    }
   ],
   "source": [
    "10 ** 3"
   ]
  },
  {
   "cell_type": "code",
   "execution_count": 92,
   "metadata": {},
   "outputs": [],
   "source": [
    "x = 123\n",
    "x = -x"
   ]
  },
  {
   "cell_type": "code",
   "execution_count": 93,
   "metadata": {},
   "outputs": [
    {
     "data": {
      "text/plain": [
       "-123"
      ]
     },
     "execution_count": 93,
     "metadata": {},
     "output_type": "execute_result"
    }
   ],
   "source": [
    "x"
   ]
  },
  {
   "cell_type": "code",
   "execution_count": 94,
   "metadata": {},
   "outputs": [
    {
     "data": {
      "text/plain": [
       "7"
      ]
     },
     "execution_count": 94,
     "metadata": {},
     "output_type": "execute_result"
    }
   ],
   "source": [
    "x % 10"
   ]
  },
  {
   "cell_type": "code",
   "execution_count": 95,
   "metadata": {},
   "outputs": [
    {
     "data": {
      "text/plain": [
       "3"
      ]
     },
     "execution_count": 95,
     "metadata": {},
     "output_type": "execute_result"
    }
   ],
   "source": [
    "123 % 10"
   ]
  },
  {
   "cell_type": "code",
   "execution_count": 96,
   "metadata": {},
   "outputs": [
    {
     "data": {
      "text/plain": [
       "0"
      ]
     },
     "execution_count": 96,
     "metadata": {},
     "output_type": "execute_result"
    }
   ],
   "source": [
    "120 % 10"
   ]
  },
  {
   "cell_type": "code",
   "execution_count": 97,
   "metadata": {},
   "outputs": [
    {
     "data": {
      "text/plain": [
       "2"
      ]
     },
     "execution_count": 97,
     "metadata": {},
     "output_type": "execute_result"
    }
   ],
   "source": [
    "12 % 10"
   ]
  },
  {
   "cell_type": "code",
   "execution_count": 98,
   "metadata": {},
   "outputs": [
    {
     "data": {
      "text/plain": [
       "12.3"
      ]
     },
     "execution_count": 98,
     "metadata": {},
     "output_type": "execute_result"
    }
   ],
   "source": [
    "123 / 10"
   ]
  },
  {
   "cell_type": "code",
   "execution_count": 99,
   "metadata": {},
   "outputs": [],
   "source": [
    "x /= 10"
   ]
  },
  {
   "cell_type": "code",
   "execution_count": 100,
   "metadata": {},
   "outputs": [
    {
     "data": {
      "text/plain": [
       "-12.3"
      ]
     },
     "execution_count": 100,
     "metadata": {},
     "output_type": "execute_result"
    }
   ],
   "source": [
    "x"
   ]
  },
  {
   "cell_type": "code",
   "execution_count": 101,
   "metadata": {},
   "outputs": [
    {
     "data": {
      "text/plain": [
       "2.3000000000000007"
      ]
     },
     "execution_count": 101,
     "metadata": {},
     "output_type": "execute_result"
    }
   ],
   "source": [
    "12.3 % 10"
   ]
  },
  {
   "cell_type": "code",
   "execution_count": 106,
   "metadata": {},
   "outputs": [],
   "source": [
    "l2 = [1,2,3,4,5,6,7,8,9,10,11,12,13,14,15,16,17,18,19,20,21,22,23,24,25,26]\n",
    "l1 = ['A','B','C','D','E','F','G','H','I','J','K','L','M','N','O','P','Q','R','S','T','U','V','W','X','Y','Z']\n",
    "alpha = dict(zip(l1,l2))"
   ]
  },
  {
   "cell_type": "code",
   "execution_count": 107,
   "metadata": {},
   "outputs": [
    {
     "data": {
      "text/plain": [
       "{'A': 1,\n",
       " 'B': 2,\n",
       " 'C': 3,\n",
       " 'D': 4,\n",
       " 'E': 5,\n",
       " 'F': 6,\n",
       " 'G': 7,\n",
       " 'H': 8,\n",
       " 'I': 9,\n",
       " 'J': 10,\n",
       " 'K': 11,\n",
       " 'L': 12,\n",
       " 'M': 13,\n",
       " 'N': 14,\n",
       " 'O': 15,\n",
       " 'P': 16,\n",
       " 'Q': 17,\n",
       " 'R': 18,\n",
       " 'S': 19,\n",
       " 'T': 20,\n",
       " 'U': 21,\n",
       " 'V': 22,\n",
       " 'W': 23,\n",
       " 'X': 24,\n",
       " 'Y': 25,\n",
       " 'Z': 26}"
      ]
     },
     "execution_count": 107,
     "metadata": {},
     "output_type": "execute_result"
    }
   ],
   "source": [
    "alpha"
   ]
  },
  {
   "cell_type": "code",
   "execution_count": 108,
   "metadata": {},
   "outputs": [
    {
     "name": "stdout",
     "output_type": "stream",
     "text": [
      "A\n",
      "B\n",
      "C\n",
      "D\n",
      "E\n",
      "F\n",
      "G\n",
      "H\n",
      "I\n",
      "J\n",
      "K\n",
      "L\n",
      "M\n",
      "N\n",
      "O\n",
      "P\n",
      "Q\n",
      "R\n",
      "S\n",
      "T\n",
      "U\n",
      "V\n",
      "W\n",
      "X\n",
      "Y\n",
      "Z\n"
     ]
    }
   ],
   "source": [
    "for letter in alpha:\n",
    "    print(letter)"
   ]
  },
  {
   "cell_type": "code",
   "execution_count": 110,
   "metadata": {},
   "outputs": [],
   "source": [
    "a = 'AB'"
   ]
  },
  {
   "cell_type": "code",
   "execution_count": 112,
   "metadata": {},
   "outputs": [
    {
     "data": {
      "text/plain": [
       "19"
      ]
     },
     "execution_count": 112,
     "metadata": {},
     "output_type": "execute_result"
    }
   ],
   "source": [
    "alpha['S']"
   ]
  },
  {
   "cell_type": "code",
   "execution_count": 115,
   "metadata": {},
   "outputs": [],
   "source": [
    "import string\n",
    "alphas = list(string.ascii_uppercase)\n",
    "alphas_dict = {v:i+1 for i,v in enumerate(alphas)}"
   ]
  },
  {
   "cell_type": "code",
   "execution_count": 116,
   "metadata": {},
   "outputs": [
    {
     "data": {
      "text/plain": [
       "['A',\n",
       " 'B',\n",
       " 'C',\n",
       " 'D',\n",
       " 'E',\n",
       " 'F',\n",
       " 'G',\n",
       " 'H',\n",
       " 'I',\n",
       " 'J',\n",
       " 'K',\n",
       " 'L',\n",
       " 'M',\n",
       " 'N',\n",
       " 'O',\n",
       " 'P',\n",
       " 'Q',\n",
       " 'R',\n",
       " 'S',\n",
       " 'T',\n",
       " 'U',\n",
       " 'V',\n",
       " 'W',\n",
       " 'X',\n",
       " 'Y',\n",
       " 'Z']"
      ]
     },
     "execution_count": 116,
     "metadata": {},
     "output_type": "execute_result"
    }
   ],
   "source": [
    "alphas"
   ]
  },
  {
   "cell_type": "code",
   "execution_count": 117,
   "metadata": {},
   "outputs": [
    {
     "data": {
      "text/plain": [
       "{'A': 1,\n",
       " 'B': 2,\n",
       " 'C': 3,\n",
       " 'D': 4,\n",
       " 'E': 5,\n",
       " 'F': 6,\n",
       " 'G': 7,\n",
       " 'H': 8,\n",
       " 'I': 9,\n",
       " 'J': 10,\n",
       " 'K': 11,\n",
       " 'L': 12,\n",
       " 'M': 13,\n",
       " 'N': 14,\n",
       " 'O': 15,\n",
       " 'P': 16,\n",
       " 'Q': 17,\n",
       " 'R': 18,\n",
       " 'S': 19,\n",
       " 'T': 20,\n",
       " 'U': 21,\n",
       " 'V': 22,\n",
       " 'W': 23,\n",
       " 'X': 24,\n",
       " 'Y': 25,\n",
       " 'Z': 26}"
      ]
     },
     "execution_count": 117,
     "metadata": {},
     "output_type": "execute_result"
    }
   ],
   "source": [
    "alphas_dict"
   ]
  },
  {
   "cell_type": "code",
   "execution_count": 118,
   "metadata": {},
   "outputs": [
    {
     "ename": "SyntaxError",
     "evalue": "invalid syntax (<ipython-input-118-d71aa03aac5d>, line 1)",
     "output_type": "error",
     "traceback": [
      "\u001b[0;36m  File \u001b[0;32m\"<ipython-input-118-d71aa03aac5d>\"\u001b[0;36m, line \u001b[0;32m1\u001b[0m\n\u001b[0;31m    5!\u001b[0m\n\u001b[0m     ^\u001b[0m\n\u001b[0;31mSyntaxError\u001b[0m\u001b[0;31m:\u001b[0m invalid syntax\n"
     ]
    }
   ],
   "source": [
    "5!"
   ]
  },
  {
   "cell_type": "code",
   "execution_count": 128,
   "metadata": {},
   "outputs": [],
   "source": [
    "n = 5"
   ]
  },
  {
   "cell_type": "code",
   "execution_count": 133,
   "metadata": {},
   "outputs": [],
   "source": [
    "fact = 0\n",
    "\n",
    "for i in range(1, n + 1):\n",
    "    fact *= i"
   ]
  },
  {
   "cell_type": "code",
   "execution_count": 134,
   "metadata": {},
   "outputs": [
    {
     "data": {
      "text/plain": [
       "0"
      ]
     },
     "execution_count": 134,
     "metadata": {},
     "output_type": "execute_result"
    }
   ],
   "source": [
    "fact"
   ]
  },
  {
   "cell_type": "code",
   "execution_count": 135,
   "metadata": {},
   "outputs": [],
   "source": [
    "mylist = ['a','b','c','d']\n"
   ]
  },
  {
   "cell_type": "code",
   "execution_count": 136,
   "metadata": {},
   "outputs": [
    {
     "name": "stdout",
     "output_type": "stream",
     "text": [
      "0\n"
     ]
    }
   ],
   "source": [
    "\n",
    "for i in range(0,len(mylist) - 1 - 1 - 1):\n",
    "    print(i)"
   ]
  },
  {
   "cell_type": "code",
   "execution_count": 150,
   "metadata": {},
   "outputs": [],
   "source": [
    "class Solution(object):\n",
    "    def isPowerOfThree(self, n):\n",
    "        \"\"\"\n",
    "        :type n: int\n",
    "        :rtype: bool\n",
    "        \"\"\"\n",
    "        x = 3\n",
    "        while x <= n:\n",
    "            print(x)\n",
    "            x = x * 3\n",
    "            print(x)\n",
    "            if x == n:\n",
    "                return True\n",
    "        return False"
   ]
  },
  {
   "cell_type": "code",
   "execution_count": 151,
   "metadata": {},
   "outputs": [],
   "source": [
    "solution = Solution()"
   ]
  },
  {
   "cell_type": "code",
   "execution_count": 152,
   "metadata": {},
   "outputs": [
    {
     "name": "stdout",
     "output_type": "stream",
     "text": [
      "3\n",
      "9\n",
      "9\n",
      "27\n"
     ]
    },
    {
     "data": {
      "text/plain": [
       "True"
      ]
     },
     "execution_count": 152,
     "metadata": {},
     "output_type": "execute_result"
    }
   ],
   "source": [
    "solution.isPowerOfThree(27)"
   ]
  },
  {
   "cell_type": "code",
   "execution_count": 155,
   "metadata": {},
   "outputs": [],
   "source": [
    "mylist = [1,2,3,4]"
   ]
  },
  {
   "cell_type": "code",
   "execution_count": 156,
   "metadata": {},
   "outputs": [
    {
     "data": {
      "text/plain": [
       "10"
      ]
     },
     "execution_count": 156,
     "metadata": {},
     "output_type": "execute_result"
    }
   ],
   "source": [
    "sum(mylist)"
   ]
  },
  {
   "cell_type": "code",
   "execution_count": 1,
   "metadata": {},
   "outputs": [],
   "source": [
    "a = [5,7,7,8,8,10]"
   ]
  },
  {
   "cell_type": "code",
   "execution_count": 2,
   "metadata": {},
   "outputs": [],
   "source": [
    "low, high = 0, len(a) - 1"
   ]
  },
  {
   "cell_type": "code",
   "execution_count": 10,
   "metadata": {},
   "outputs": [],
   "source": [
    "mid = int(low + high) / 2"
   ]
  },
  {
   "cell_type": "code",
   "execution_count": 13,
   "metadata": {},
   "outputs": [
    {
     "data": {
      "text/plain": [
       "2"
      ]
     },
     "execution_count": 13,
     "metadata": {},
     "output_type": "execute_result"
    }
   ],
   "source": [
    "int(mid)"
   ]
  },
  {
   "cell_type": "code",
   "execution_count": 14,
   "metadata": {},
   "outputs": [],
   "source": [
    "class Solution(object):\n",
    "    def searchRange(self, nums, target):\n",
    "        \"\"\"\n",
    "        :type nums: List[int]\n",
    "        :type target: int\n",
    "        :rtype: List[int]\n",
    "        \"\"\"\n",
    "\n",
    "        def searchLow(nums, target):\n",
    "            low, high = 0, len(nums) - 1\n",
    "            while low <= high:\n",
    "                mid = (low + high) / 2\n",
    "                if target > nums[mid]:\n",
    "                    low = mid + 1\n",
    "                else:\n",
    "                    high = mid - 1\n",
    "            return low\n",
    "        def searchHigh(nums,target):   \n",
    "            low , high = 0 ,len(nums) - 1\n",
    "            while low <= high:\n",
    "                mid = (low + high) / 2\n",
    "                if target >= nums[mid]:\n",
    "                    low = mid + 1\n",
    "                else:\n",
    "                    high = mid - 1\n",
    "            return high\n",
    "        low, high = searchLow(nums, target), searchHigh(nums, target)\n",
    "        return (low, high) if low <= high else [-1, -1]\n",
    "                    \n"
   ]
  },
  {
   "cell_type": "code",
   "execution_count": 15,
   "metadata": {},
   "outputs": [],
   "source": [
    "solution = Solution()"
   ]
  },
  {
   "cell_type": "code",
   "execution_count": 16,
   "metadata": {},
   "outputs": [
    {
     "ename": "TypeError",
     "evalue": "list indices must be integers or slices, not float",
     "output_type": "error",
     "traceback": [
      "\u001b[0;31m---------------------------------------------------------------------------\u001b[0m",
      "\u001b[0;31mTypeError\u001b[0m                                 Traceback (most recent call last)",
      "\u001b[0;32m<ipython-input-16-d028ddc39015>\u001b[0m in \u001b[0;36m<module>\u001b[0;34m\u001b[0m\n\u001b[0;32m----> 1\u001b[0;31m \u001b[0msolution\u001b[0m\u001b[0;34m.\u001b[0m\u001b[0msearchRange\u001b[0m\u001b[0;34m(\u001b[0m\u001b[0;34m[\u001b[0m\u001b[0;36m5\u001b[0m\u001b[0;34m,\u001b[0m\u001b[0;36m7\u001b[0m\u001b[0;34m,\u001b[0m\u001b[0;36m7\u001b[0m\u001b[0;34m,\u001b[0m\u001b[0;36m8\u001b[0m\u001b[0;34m,\u001b[0m\u001b[0;36m8\u001b[0m\u001b[0;34m,\u001b[0m\u001b[0;36m10\u001b[0m\u001b[0;34m]\u001b[0m\u001b[0;34m,\u001b[0m\u001b[0;36m8\u001b[0m\u001b[0;34m)\u001b[0m\u001b[0;34m\u001b[0m\u001b[0;34m\u001b[0m\u001b[0m\n\u001b[0m",
      "\u001b[0;32m<ipython-input-14-09c104cc5553>\u001b[0m in \u001b[0;36msearchRange\u001b[0;34m(self, nums, target)\u001b[0m\n\u001b[1;32m     25\u001b[0m                     \u001b[0mhigh\u001b[0m \u001b[0;34m=\u001b[0m \u001b[0mmid\u001b[0m \u001b[0;34m-\u001b[0m \u001b[0;36m1\u001b[0m\u001b[0;34m\u001b[0m\u001b[0;34m\u001b[0m\u001b[0m\n\u001b[1;32m     26\u001b[0m             \u001b[0;32mreturn\u001b[0m \u001b[0mhigh\u001b[0m\u001b[0;34m\u001b[0m\u001b[0;34m\u001b[0m\u001b[0m\n\u001b[0;32m---> 27\u001b[0;31m         \u001b[0mlow\u001b[0m\u001b[0;34m,\u001b[0m \u001b[0mhigh\u001b[0m \u001b[0;34m=\u001b[0m \u001b[0msearchLow\u001b[0m\u001b[0;34m(\u001b[0m\u001b[0mnums\u001b[0m\u001b[0;34m,\u001b[0m \u001b[0mtarget\u001b[0m\u001b[0;34m)\u001b[0m\u001b[0;34m,\u001b[0m \u001b[0msearchHigh\u001b[0m\u001b[0;34m(\u001b[0m\u001b[0mnums\u001b[0m\u001b[0;34m,\u001b[0m \u001b[0mtarget\u001b[0m\u001b[0;34m)\u001b[0m\u001b[0;34m\u001b[0m\u001b[0;34m\u001b[0m\u001b[0m\n\u001b[0m\u001b[1;32m     28\u001b[0m         \u001b[0;32mreturn\u001b[0m \u001b[0;34m(\u001b[0m\u001b[0mlow\u001b[0m\u001b[0;34m,\u001b[0m \u001b[0mhigh\u001b[0m\u001b[0;34m)\u001b[0m \u001b[0;32mif\u001b[0m \u001b[0mlow\u001b[0m \u001b[0;34m<=\u001b[0m \u001b[0mhigh\u001b[0m \u001b[0;32melse\u001b[0m \u001b[0;34m[\u001b[0m\u001b[0;34m-\u001b[0m\u001b[0;36m1\u001b[0m\u001b[0;34m,\u001b[0m \u001b[0;34m-\u001b[0m\u001b[0;36m1\u001b[0m\u001b[0;34m]\u001b[0m\u001b[0;34m\u001b[0m\u001b[0;34m\u001b[0m\u001b[0m\n\u001b[1;32m     29\u001b[0m \u001b[0;34m\u001b[0m\u001b[0m\n",
      "\u001b[0;32m<ipython-input-14-09c104cc5553>\u001b[0m in \u001b[0;36msearchLow\u001b[0;34m(nums, target)\u001b[0m\n\u001b[1;32m     11\u001b[0m             \u001b[0;32mwhile\u001b[0m \u001b[0mlow\u001b[0m \u001b[0;34m<=\u001b[0m \u001b[0mhigh\u001b[0m\u001b[0;34m:\u001b[0m\u001b[0;34m\u001b[0m\u001b[0;34m\u001b[0m\u001b[0m\n\u001b[1;32m     12\u001b[0m                 \u001b[0mmid\u001b[0m \u001b[0;34m=\u001b[0m \u001b[0;34m(\u001b[0m\u001b[0mlow\u001b[0m \u001b[0;34m+\u001b[0m \u001b[0mhigh\u001b[0m\u001b[0;34m)\u001b[0m \u001b[0;34m/\u001b[0m \u001b[0;36m2\u001b[0m\u001b[0;34m\u001b[0m\u001b[0;34m\u001b[0m\u001b[0m\n\u001b[0;32m---> 13\u001b[0;31m                 \u001b[0;32mif\u001b[0m \u001b[0mtarget\u001b[0m \u001b[0;34m>\u001b[0m \u001b[0mnums\u001b[0m\u001b[0;34m[\u001b[0m\u001b[0mmid\u001b[0m\u001b[0;34m]\u001b[0m\u001b[0;34m:\u001b[0m\u001b[0;34m\u001b[0m\u001b[0;34m\u001b[0m\u001b[0m\n\u001b[0m\u001b[1;32m     14\u001b[0m                     \u001b[0mlow\u001b[0m \u001b[0;34m=\u001b[0m \u001b[0mmid\u001b[0m \u001b[0;34m+\u001b[0m \u001b[0;36m1\u001b[0m\u001b[0;34m\u001b[0m\u001b[0;34m\u001b[0m\u001b[0m\n\u001b[1;32m     15\u001b[0m                 \u001b[0;32melse\u001b[0m\u001b[0;34m:\u001b[0m\u001b[0;34m\u001b[0m\u001b[0;34m\u001b[0m\u001b[0m\n",
      "\u001b[0;31mTypeError\u001b[0m: list indices must be integers or slices, not float"
     ]
    }
   ],
   "source": [
    "solution.searchRange([5,7,7,8,8,10],8)"
   ]
  },
  {
   "cell_type": "code",
   "execution_count": 17,
   "metadata": {},
   "outputs": [],
   "source": [
    "a = [2,3,4,5]"
   ]
  },
  {
   "cell_type": "code",
   "execution_count": 18,
   "metadata": {},
   "outputs": [
    {
     "data": {
      "text/plain": [
       "5"
      ]
     },
     "execution_count": 18,
     "metadata": {},
     "output_type": "execute_result"
    }
   ],
   "source": [
    "a[-1]"
   ]
  },
  {
   "cell_type": "code",
   "execution_count": 19,
   "metadata": {},
   "outputs": [
    {
     "ename": "TypeError",
     "evalue": "'int' object is not subscriptable",
     "output_type": "error",
     "traceback": [
      "\u001b[0;31m---------------------------------------------------------------------------\u001b[0m",
      "\u001b[0;31mTypeError\u001b[0m                                 Traceback (most recent call last)",
      "\u001b[0;32m<ipython-input-19-b4ad1e8aaf95>\u001b[0m in \u001b[0;36m<module>\u001b[0;34m\u001b[0m\n\u001b[0;32m----> 1\u001b[0;31m \u001b[0ma\u001b[0m\u001b[0;34m[\u001b[0m\u001b[0;34m-\u001b[0m\u001b[0;36m1\u001b[0m\u001b[0;34m]\u001b[0m\u001b[0;34m[\u001b[0m\u001b[0;36m0\u001b[0m\u001b[0;34m]\u001b[0m\u001b[0;34m\u001b[0m\u001b[0;34m\u001b[0m\u001b[0m\n\u001b[0m",
      "\u001b[0;31mTypeError\u001b[0m: 'int' object is not subscriptable"
     ]
    }
   ],
   "source": [
    "a[-1][0]"
   ]
  },
  {
   "cell_type": "code",
   "execution_count": 20,
   "metadata": {},
   "outputs": [],
   "source": [
    "ll = [\n",
    " [ 1, 2, 3 ],\n",
    " [ 4, 5, 6 ],\n",
    " [ 7, 8, 9 ]\n",
    "]"
   ]
  },
  {
   "cell_type": "code",
   "execution_count": 2,
   "metadata": {},
   "outputs": [
    {
     "data": {
      "text/plain": [
       "[[1, 2, 3], [4, 5, 6], [7, 8, 9]]"
      ]
     },
     "execution_count": 2,
     "metadata": {},
     "output_type": "execute_result"
    }
   ],
   "source": [
    "ll"
   ]
  },
  {
   "cell_type": "code",
   "execution_count": 3,
   "metadata": {},
   "outputs": [],
   "source": [
    "del(ll[0])"
   ]
  },
  {
   "cell_type": "code",
   "execution_count": 4,
   "metadata": {},
   "outputs": [
    {
     "data": {
      "text/plain": [
       "[[4, 5, 6], [7, 8, 9]]"
      ]
     },
     "execution_count": 4,
     "metadata": {},
     "output_type": "execute_result"
    }
   ],
   "source": [
    "ll"
   ]
  },
  {
   "cell_type": "code",
   "execution_count": 5,
   "metadata": {},
   "outputs": [],
   "source": [
    "del(ll[0][2])"
   ]
  },
  {
   "cell_type": "code",
   "execution_count": 6,
   "metadata": {},
   "outputs": [
    {
     "data": {
      "text/plain": [
       "[[4, 5], [7, 8, 9]]"
      ]
     },
     "execution_count": 6,
     "metadata": {},
     "output_type": "execute_result"
    }
   ],
   "source": [
    "ll"
   ]
  },
  {
   "cell_type": "code",
   "execution_count": 7,
   "metadata": {},
   "outputs": [],
   "source": [
    "a = [1,2,2,3,4,4]"
   ]
  },
  {
   "cell_type": "code",
   "execution_count": 36,
   "metadata": {},
   "outputs": [],
   "source": [
    "ll = [\n",
    " [ 1, 2, 3 ],\n",
    " [ 4, 5, 6 ],\n",
    " [ 7, 8, 9 ]\n",
    "]"
   ]
  },
  {
   "cell_type": "code",
   "execution_count": 53,
   "metadata": {},
   "outputs": [],
   "source": [
    "class Solution(object):\n",
    "    def spiralOrder(self, matrix):\n",
    "        \"\"\"\n",
    "        :type matrix: List[List[int]]\n",
    "        :rtype: List[int]\n",
    "        \"\"\"\n",
    "        res = []\n",
    "        \n",
    "        while matrix:\n",
    "            res += matrix[0]\n",
    "#             print(res)\n",
    "            del(matrix[0])\n",
    "            try:\n",
    "                for list in matrix:\n",
    "                    res.append(list[-1])\n",
    "                    del(list[-1])\n",
    "            except IndexError:\n",
    "                break\n",
    "#             print(res)\n",
    "#             print(matrix)\n",
    "#             print(len(matrix))\n",
    "            try:\n",
    "                res += matrix[len(matrix) - 1][::-1]\n",
    "                del(matrix[len(matrix) - 1])\n",
    "                rev = []\n",
    "                for list in matrix:\n",
    "                    rev.append(list[0])\n",
    "                    del(list[0])\n",
    "#                     print(rev)\n",
    "                res += rev[::-1]\n",
    "            except IndexError:\n",
    "                break\n",
    "\n",
    "        return res"
   ]
  },
  {
   "cell_type": "code",
   "execution_count": 54,
   "metadata": {},
   "outputs": [],
   "source": [
    "solution = Solution()"
   ]
  },
  {
   "cell_type": "code",
   "execution_count": 55,
   "metadata": {},
   "outputs": [
    {
     "name": "stdout",
     "output_type": "stream",
     "text": [
      "[1, 11]\n",
      "[1, 11, 12, 13, 14, 15, 16, 17, 18, 19, 20]\n",
      "[[2], [3], [4], [5], [6], [7], [8], [9], [10]]\n",
      "9\n",
      "[1, 11, 12, 13, 14, 15, 16, 17, 18, 19, 20, 10, 9, 8, 7, 6, 5, 4, 3, 2]\n"
     ]
    },
    {
     "data": {
      "text/plain": [
       "[1, 11, 12, 13, 14, 15, 16, 17, 18, 19, 20, 10, 9, 8, 7, 6, 5, 4, 3, 2]"
      ]
     },
     "execution_count": 55,
     "metadata": {},
     "output_type": "execute_result"
    }
   ],
   "source": [
    "solution.spiralOrder([[1,11],[2,12],[3,13],[4,14],[5,15],[6,16],[7,17],[8,18],[9,19],[10,20]])"
   ]
  },
  {
   "cell_type": "code",
   "execution_count": 22,
   "metadata": {},
   "outputs": [],
   "source": [
    "res = []"
   ]
  },
  {
   "cell_type": "code",
   "execution_count": 23,
   "metadata": {},
   "outputs": [],
   "source": [
    "res = res + ll[0]"
   ]
  },
  {
   "cell_type": "code",
   "execution_count": 24,
   "metadata": {},
   "outputs": [
    {
     "data": {
      "text/plain": [
       "[1, 2, 3]"
      ]
     },
     "execution_count": 24,
     "metadata": {},
     "output_type": "execute_result"
    }
   ],
   "source": [
    "res"
   ]
  },
  {
   "cell_type": "code",
   "execution_count": 56,
   "metadata": {},
   "outputs": [],
   "source": [
    "xx = [[1,3],[2,6],[8,10],[15,18]]"
   ]
  },
  {
   "cell_type": "code",
   "execution_count": 61,
   "metadata": {},
   "outputs": [],
   "source": [
    "xx.sort(key=lambda x: x[0])"
   ]
  },
  {
   "cell_type": "code",
   "execution_count": 62,
   "metadata": {},
   "outputs": [
    {
     "data": {
      "text/plain": [
       "[[1, 3], [2, 6], [8, 10], [15, 18]]"
      ]
     },
     "execution_count": 62,
     "metadata": {},
     "output_type": "execute_result"
    }
   ],
   "source": [
    "xx"
   ]
  },
  {
   "cell_type": "code",
   "execution_count": 59,
   "metadata": {},
   "outputs": [
    {
     "ename": "AttributeError",
     "evalue": "'int' object has no attribute 'start'",
     "output_type": "error",
     "traceback": [
      "\u001b[0;31m---------------------------------------------------------------------------\u001b[0m",
      "\u001b[0;31mAttributeError\u001b[0m                            Traceback (most recent call last)",
      "\u001b[0;32m<ipython-input-59-4fb84e3f15b4>\u001b[0m in \u001b[0;36m<module>\u001b[0;34m\u001b[0m\n\u001b[0;32m----> 1\u001b[0;31m \u001b[0ma\u001b[0m\u001b[0;34m.\u001b[0m\u001b[0mstart\u001b[0m\u001b[0;34m\u001b[0m\u001b[0;34m\u001b[0m\u001b[0m\n\u001b[0m",
      "\u001b[0;31mAttributeError\u001b[0m: 'int' object has no attribute 'start'"
     ]
    }
   ],
   "source": [
    "a.start"
   ]
  },
  {
   "cell_type": "code",
   "execution_count": 60,
   "metadata": {},
   "outputs": [
    {
     "ename": "AttributeError",
     "evalue": "'int' object has no attribute 'start'",
     "output_type": "error",
     "traceback": [
      "\u001b[0;31m---------------------------------------------------------------------------\u001b[0m",
      "\u001b[0;31mAttributeError\u001b[0m                            Traceback (most recent call last)",
      "\u001b[0;32m<ipython-input-60-a7f9ed394689>\u001b[0m in \u001b[0;36m<module>\u001b[0;34m\u001b[0m\n\u001b[0;32m----> 1\u001b[0;31m \u001b[0ma\u001b[0m\u001b[0;34m.\u001b[0m\u001b[0mstart\u001b[0m\u001b[0;34m(\u001b[0m\u001b[0;34m)\u001b[0m\u001b[0;34m\u001b[0m\u001b[0;34m\u001b[0m\u001b[0m\n\u001b[0m",
      "\u001b[0;31mAttributeError\u001b[0m: 'int' object has no attribute 'start'"
     ]
    }
   ],
   "source": [
    "a.start()"
   ]
  },
  {
   "cell_type": "code",
   "execution_count": 63,
   "metadata": {},
   "outputs": [],
   "source": [
    "bb = [1,2,3]"
   ]
  },
  {
   "cell_type": "code",
   "execution_count": 64,
   "metadata": {},
   "outputs": [
    {
     "data": {
      "text/plain": [
       "[1, 2, 3]"
      ]
     },
     "execution_count": 64,
     "metadata": {},
     "output_type": "execute_result"
    }
   ],
   "source": [
    "bb[:]"
   ]
  },
  {
   "cell_type": "code",
   "execution_count": 65,
   "metadata": {},
   "outputs": [
    {
     "data": {
      "text/plain": [
       "[1, 2, 3]"
      ]
     },
     "execution_count": 65,
     "metadata": {},
     "output_type": "execute_result"
    }
   ],
   "source": [
    "bb[::]"
   ]
  },
  {
   "cell_type": "code",
   "execution_count": 71,
   "metadata": {},
   "outputs": [
    {
     "ename": "TypeError",
     "evalue": "can only assign an iterable",
     "output_type": "error",
     "traceback": [
      "\u001b[0;31m---------------------------------------------------------------------------\u001b[0m",
      "\u001b[0;31mTypeError\u001b[0m                                 Traceback (most recent call last)",
      "\u001b[0;32m<ipython-input-71-df2f27522902>\u001b[0m in \u001b[0;36m<module>\u001b[0;34m\u001b[0m\n\u001b[0;32m----> 1\u001b[0;31m \u001b[0mbb\u001b[0m\u001b[0;34m[\u001b[0m\u001b[0;34m:\u001b[0m\u001b[0;34m]\u001b[0m \u001b[0;34m=\u001b[0m \u001b[0mint\u001b[0m\u001b[0;34m(\u001b[0m\u001b[0;36m0\u001b[0m\u001b[0;34m)\u001b[0m\u001b[0;34m*\u001b[0m\u001b[0mlen\u001b[0m\u001b[0;34m(\u001b[0m\u001b[0mbb\u001b[0m\u001b[0;34m)\u001b[0m\u001b[0;34m\u001b[0m\u001b[0;34m\u001b[0m\u001b[0m\n\u001b[0m",
      "\u001b[0;31mTypeError\u001b[0m: can only assign an iterable"
     ]
    }
   ],
   "source": [
    "bb[:] = int(0)*len(bb)"
   ]
  },
  {
   "cell_type": "code",
   "execution_count": 70,
   "metadata": {},
   "outputs": [
    {
     "data": {
      "text/plain": [
       "['0', '0', '0']"
      ]
     },
     "execution_count": 70,
     "metadata": {},
     "output_type": "execute_result"
    }
   ],
   "source": [
    "bb"
   ]
  },
  {
   "cell_type": "code",
   "execution_count": 80,
   "metadata": {},
   "outputs": [],
   "source": [
    "matrix = [\n",
    "  [0,0,0,0],\n",
    "  [3,4,5,2],\n",
    "  [1,3,1,5]\n",
    "]"
   ]
  },
  {
   "cell_type": "code",
   "execution_count": 73,
   "metadata": {},
   "outputs": [],
   "source": [
    "row_index = set()\n",
    "column_index = []\n",
    "for i in range(len(matrix)):\n",
    "    for j in range(len(matrix[0])):\n",
    "        if matrix[i][j] == 0:\n",
    "            row_index.add(i)\n",
    "            column_index.append(j)"
   ]
  },
  {
   "cell_type": "code",
   "execution_count": 74,
   "metadata": {},
   "outputs": [
    {
     "data": {
      "text/plain": [
       "{0}"
      ]
     },
     "execution_count": 74,
     "metadata": {},
     "output_type": "execute_result"
    }
   ],
   "source": [
    "row_index"
   ]
  },
  {
   "cell_type": "code",
   "execution_count": 75,
   "metadata": {},
   "outputs": [
    {
     "data": {
      "text/plain": [
       "[0, 3]"
      ]
     },
     "execution_count": 75,
     "metadata": {},
     "output_type": "execute_result"
    }
   ],
   "source": [
    "column_index"
   ]
  },
  {
   "cell_type": "code",
   "execution_count": 77,
   "metadata": {},
   "outputs": [
    {
     "name": "stdout",
     "output_type": "stream",
     "text": [
      "2\n",
      "5\n",
      "4\n",
      "3\n",
      "5\n",
      "1\n",
      "3\n",
      "1\n"
     ]
    }
   ],
   "source": [
    "for i in range(1, len(matrix)):\n",
    "    for j in range(len(matrix[0]) - 1, -1, -1):\n",
    "        print(matrix[i][j])"
   ]
  },
  {
   "cell_type": "code",
   "execution_count": 82,
   "metadata": {},
   "outputs": [
    {
     "data": {
      "text/plain": [
       "False"
      ]
     },
     "execution_count": 82,
     "metadata": {},
     "output_type": "execute_result"
    }
   ],
   "source": [
    "all(matrix[0])\n"
   ]
  },
  {
   "cell_type": "code",
   "execution_count": 83,
   "metadata": {},
   "outputs": [
    {
     "data": {
      "text/plain": [
       "[1, 2]"
      ]
     },
     "execution_count": 83,
     "metadata": {},
     "output_type": "execute_result"
    }
   ],
   "source": [
    "[1]+[2]"
   ]
  },
  {
   "cell_type": "code",
   "execution_count": 86,
   "metadata": {},
   "outputs": [],
   "source": [
    "import collections\n",
    "strs = [ 'are','bat','ear','code','tab','era']\n",
    "ans = collections.defaultdict(list)\n",
    "\n",
    "ans[tuple(sorted(strs[0]))].append(strs[0])"
   ]
  },
  {
   "cell_type": "code",
   "execution_count": 87,
   "metadata": {},
   "outputs": [
    {
     "data": {
      "text/plain": [
       "defaultdict(list, {('a', 'e', 'r'): ['are']})"
      ]
     },
     "execution_count": 87,
     "metadata": {},
     "output_type": "execute_result"
    }
   ],
   "source": [
    "ans"
   ]
  },
  {
   "cell_type": "code",
   "execution_count": 94,
   "metadata": {},
   "outputs": [],
   "source": [
    "o = 'are'\n",
    "b = 'ess'"
   ]
  },
  {
   "cell_type": "code",
   "execution_count": 89,
   "metadata": {},
   "outputs": [
    {
     "data": {
      "text/plain": [
       "['a', 'e', 'r']"
      ]
     },
     "execution_count": 89,
     "metadata": {},
     "output_type": "execute_result"
    }
   ],
   "source": [
    "sorted(o)"
   ]
  },
  {
   "cell_type": "code",
   "execution_count": 97,
   "metadata": {},
   "outputs": [],
   "source": [
    "d= {}\n",
    "d[tuple(sorted(o))] = o"
   ]
  },
  {
   "cell_type": "code",
   "execution_count": 98,
   "metadata": {},
   "outputs": [
    {
     "data": {
      "text/plain": [
       "{('a', 'e', 'r'): 'are'}"
      ]
     },
     "execution_count": 98,
     "metadata": {},
     "output_type": "execute_result"
    }
   ],
   "source": [
    "d"
   ]
  },
  {
   "cell_type": "code",
   "execution_count": 105,
   "metadata": {},
   "outputs": [
    {
     "ename": "TypeError",
     "evalue": "'str' object does not support item assignment",
     "output_type": "error",
     "traceback": [
      "\u001b[0;31m---------------------------------------------------------------------------\u001b[0m",
      "\u001b[0;31mTypeError\u001b[0m                                 Traceback (most recent call last)",
      "\u001b[0;32m<ipython-input-105-17d249215306>\u001b[0m in \u001b[0;36m<module>\u001b[0;34m\u001b[0m\n\u001b[0;32m----> 1\u001b[0;31m \u001b[0md\u001b[0m\u001b[0;34m[\u001b[0m\u001b[0mtuple\u001b[0m\u001b[0;34m(\u001b[0m\u001b[0msorted\u001b[0m\u001b[0;34m(\u001b[0m\u001b[0mo\u001b[0m\u001b[0;34m)\u001b[0m\u001b[0;34m)\u001b[0m\u001b[0;34m]\u001b[0m \u001b[0;34m=\u001b[0m \u001b[0;34m[\u001b[0m\u001b[0mo\u001b[0m \u001b[0;34m,\u001b[0m \u001b[0mb\u001b[0m\u001b[0;34m]\u001b[0m\u001b[0;34m\u001b[0m\u001b[0;34m\u001b[0m\u001b[0m\n\u001b[0m",
      "\u001b[0;31mTypeError\u001b[0m: 'str' object does not support item assignment"
     ]
    }
   ],
   "source": [
    "d[tuple(sorted(o))] = [o , b]"
   ]
  },
  {
   "cell_type": "code",
   "execution_count": 106,
   "metadata": {},
   "outputs": [],
   "source": [
    "a = 'a' \n",
    "b = 'b'"
   ]
  },
  {
   "cell_type": "code",
   "execution_count": 107,
   "metadata": {},
   "outputs": [
    {
     "data": {
      "text/plain": [
       "'ab'"
      ]
     },
     "execution_count": 107,
     "metadata": {},
     "output_type": "execute_result"
    }
   ],
   "source": [
    "a + b"
   ]
  },
  {
   "cell_type": "code",
   "execution_count": 108,
   "metadata": {},
   "outputs": [],
   "source": [
    "temp = ''"
   ]
  },
  {
   "cell_type": "code",
   "execution_count": 109,
   "metadata": {},
   "outputs": [
    {
     "data": {
      "text/plain": [
       "'ab'"
      ]
     },
     "execution_count": 109,
     "metadata": {},
     "output_type": "execute_result"
    }
   ],
   "source": [
    "temp + a + b"
   ]
  },
  {
   "cell_type": "code",
   "execution_count": 110,
   "metadata": {},
   "outputs": [],
   "source": [
    "temp = temp + a + b"
   ]
  },
  {
   "cell_type": "code",
   "execution_count": 111,
   "metadata": {},
   "outputs": [
    {
     "data": {
      "text/plain": [
       "'ab'"
      ]
     },
     "execution_count": 111,
     "metadata": {},
     "output_type": "execute_result"
    }
   ],
   "source": [
    "temp"
   ]
  },
  {
   "cell_type": "code",
   "execution_count": 125,
   "metadata": {},
   "outputs": [],
   "source": [
    "s = 'abcabcbb'\n",
    "d = {}\n",
    "temp = ''\n",
    "i = 0\n",
    "while i < len(s):\n",
    "    if s[i] not in temp:\n",
    "        temp += s[i]\n",
    "        i += 1\n",
    "    else:\n",
    "        d[len(temp)] = temp\n",
    "        temp = ''"
   ]
  },
  {
   "cell_type": "code",
   "execution_count": 126,
   "metadata": {},
   "outputs": [
    {
     "data": {
      "text/plain": [
       "{3: 'abc', 1: 'b'}"
      ]
     },
     "execution_count": 126,
     "metadata": {},
     "output_type": "execute_result"
    }
   ],
   "source": [
    "d"
   ]
  },
  {
   "cell_type": "code",
   "execution_count": 128,
   "metadata": {},
   "outputs": [
    {
     "data": {
      "text/plain": [
       "'abc'"
      ]
     },
     "execution_count": 128,
     "metadata": {},
     "output_type": "execute_result"
    }
   ],
   "source": [
    "d[max(d.keys())]"
   ]
  },
  {
   "cell_type": "code",
   "execution_count": 129,
   "metadata": {},
   "outputs": [],
   "source": [
    "s = \" \"\n"
   ]
  },
  {
   "cell_type": "code",
   "execution_count": 131,
   "metadata": {},
   "outputs": [],
   "source": [
    "s = 'auaf'"
   ]
  },
  {
   "cell_type": "code",
   "execution_count": 134,
   "metadata": {},
   "outputs": [
    {
     "name": "stdout",
     "output_type": "stream",
     "text": [
      "{'a': 0}\n",
      "{'a': 0, 'u': 1}\n",
      "{'a': 2, 'u': 1}\n",
      "{'a': 2, 'u': 1, 'f': 3}\n",
      "3\n"
     ]
    }
   ],
   "source": [
    "used = {}\n",
    "max_length = start = 0\n",
    "for i, c in enumerate(s):\n",
    "    if c in used and start <= used[c]:\n",
    "        start = used[c] + 1\n",
    "    else:\n",
    "        max_length = max(max_length, i - start + 1)\n",
    "\n",
    "    used[c] = i\n",
    "    print(used)\n",
    "\n",
    "print(max_length) "
   ]
  },
  {
   "cell_type": "code",
   "execution_count": 133,
   "metadata": {},
   "outputs": [
    {
     "data": {
      "text/plain": [
       "{'a': 2, 'u': 1, 'f': 3}"
      ]
     },
     "execution_count": 133,
     "metadata": {},
     "output_type": "execute_result"
    }
   ],
   "source": [
    "used"
   ]
  },
  {
   "cell_type": "code",
   "execution_count": 140,
   "metadata": {},
   "outputs": [
    {
     "data": {
      "text/plain": [
       "['3', '4', '5', '1', '2']"
      ]
     },
     "execution_count": 140,
     "metadata": {},
     "output_type": "execute_result"
    }
   ],
   "source": [
    "s = ['1','2','3','4','5']\n",
    "s[2:] + s[0:2]"
   ]
  },
  {
   "cell_type": "code",
   "execution_count": 141,
   "metadata": {},
   "outputs": [],
   "source": [
    "b = 'bb'"
   ]
  },
  {
   "cell_type": "code",
   "execution_count": 150,
   "metadata": {},
   "outputs": [
    {
     "data": {
      "text/plain": [
       "'b'"
      ]
     },
     "execution_count": 150,
     "metadata": {},
     "output_type": "execute_result"
    }
   ],
   "source": [
    "b[-1]"
   ]
  },
  {
   "cell_type": "code",
   "execution_count": 153,
   "metadata": {},
   "outputs": [],
   "source": [
    "a = 'abcdscds'"
   ]
  },
  {
   "cell_type": "code",
   "execution_count": 156,
   "metadata": {},
   "outputs": [
    {
     "data": {
      "text/plain": [
       "'c'"
      ]
     },
     "execution_count": 156,
     "metadata": {},
     "output_type": "execute_result"
    }
   ],
   "source": [
    "a[-3]"
   ]
  },
  {
   "cell_type": "code",
   "execution_count": 163,
   "metadata": {},
   "outputs": [],
   "source": [
    "x = [4,5,6,7,8]"
   ]
  },
  {
   "cell_type": "code",
   "execution_count": 165,
   "metadata": {},
   "outputs": [
    {
     "data": {
      "text/plain": [
       "'4->8'"
      ]
     },
     "execution_count": 165,
     "metadata": {},
     "output_type": "execute_result"
    }
   ],
   "source": [
    "str(x[0]) + '->' + str(x[-1])"
   ]
  },
  {
   "cell_type": "code",
   "execution_count": 168,
   "metadata": {},
   "outputs": [],
   "source": [
    "x = [x for x in range(-2, -1+1)]"
   ]
  },
  {
   "cell_type": "code",
   "execution_count": 169,
   "metadata": {},
   "outputs": [
    {
     "data": {
      "text/plain": [
       "[-2, -1]"
      ]
     },
     "execution_count": 169,
     "metadata": {},
     "output_type": "execute_result"
    }
   ],
   "source": [
    "x"
   ]
  },
  {
   "cell_type": "code",
   "execution_count": 170,
   "metadata": {},
   "outputs": [],
   "source": [
    "res = 123"
   ]
  },
  {
   "cell_type": "code",
   "execution_count": 171,
   "metadata": {},
   "outputs": [
    {
     "data": {
      "text/plain": [
       "123"
      ]
     },
     "execution_count": 171,
     "metadata": {},
     "output_type": "execute_result"
    }
   ],
   "source": [
    "res"
   ]
  },
  {
   "cell_type": "code",
   "execution_count": 173,
   "metadata": {},
   "outputs": [
    {
     "name": "stdout",
     "output_type": "stream",
     "text": [
      "1\n",
      "2\n",
      "3\n"
     ]
    }
   ],
   "source": [
    "for i in str(res):\n",
    "    print(i)"
   ]
  },
  {
   "cell_type": "code",
   "execution_count": 175,
   "metadata": {},
   "outputs": [
    {
     "ename": "AttributeError",
     "evalue": "'int' object has no attribute 'reverse'",
     "output_type": "error",
     "traceback": [
      "\u001b[0;31m---------------------------------------------------------------------------\u001b[0m",
      "\u001b[0;31mAttributeError\u001b[0m                            Traceback (most recent call last)",
      "\u001b[0;32m<ipython-input-175-90218b6590aa>\u001b[0m in \u001b[0;36m<module>\u001b[0;34m\u001b[0m\n\u001b[0;32m----> 1\u001b[0;31m \u001b[0mres\u001b[0m\u001b[0;34m.\u001b[0m\u001b[0mreverse\u001b[0m\u001b[0;34m(\u001b[0m\u001b[0;34m)\u001b[0m\u001b[0;34m\u001b[0m\u001b[0;34m\u001b[0m\u001b[0m\n\u001b[0m",
      "\u001b[0;31mAttributeError\u001b[0m: 'int' object has no attribute 'reverse'"
     ]
    }
   ],
   "source": [
    "res.reverse()"
   ]
  },
  {
   "cell_type": "code",
   "execution_count": 178,
   "metadata": {},
   "outputs": [
    {
     "data": {
      "text/plain": [
       "(1, 0)"
      ]
     },
     "execution_count": 178,
     "metadata": {},
     "output_type": "execute_result"
    }
   ],
   "source": [
    "divmod(10, 10)"
   ]
  },
  {
   "cell_type": "code",
   "execution_count": 11,
   "metadata": {},
   "outputs": [],
   "source": [
    "list1 = ['abc', 'def', 'ghi', 'jkl', 'mno', 'pqrs', 'tuv', 'wxyz']\n",
    "list2 = [2,3,4,5,6,7,8,9]\n",
    "dic = dict(zip(list2, list1))"
   ]
  },
  {
   "cell_type": "code",
   "execution_count": 12,
   "metadata": {},
   "outputs": [
    {
     "data": {
      "text/plain": [
       "{2: ['abc', 'def', 'ghi', 'jkl', 'mno', 'pqrs', 'tuv', 'wxyz']}"
      ]
     },
     "execution_count": 12,
     "metadata": {},
     "output_type": "execute_result"
    }
   ],
   "source": [
    "dic"
   ]
  },
  {
   "cell_type": "code",
   "execution_count": 7,
   "metadata": {},
   "outputs": [
    {
     "data": {
      "text/plain": [
       "'abc'"
      ]
     },
     "execution_count": 7,
     "metadata": {},
     "output_type": "execute_result"
    }
   ],
   "source": [
    "dic[2]"
   ]
  },
  {
   "cell_type": "code",
   "execution_count": 8,
   "metadata": {},
   "outputs": [
    {
     "data": {
      "text/plain": [
       "'a'"
      ]
     },
     "execution_count": 8,
     "metadata": {},
     "output_type": "execute_result"
    }
   ],
   "source": [
    "dic[2][0]"
   ]
  },
  {
   "cell_type": "code",
   "execution_count": 9,
   "metadata": {},
   "outputs": [
    {
     "data": {
      "text/plain": [
       "2.3"
      ]
     },
     "execution_count": 9,
     "metadata": {},
     "output_type": "execute_result"
    }
   ],
   "source": [
    "23/10"
   ]
  },
  {
   "cell_type": "code",
   "execution_count": 17,
   "metadata": {},
   "outputs": [
    {
     "data": {
      "text/plain": [
       "'24'"
      ]
     },
     "execution_count": 17,
     "metadata": {},
     "output_type": "execute_result"
    }
   ],
   "source": [
    "a = '243'\n",
    "a[:-1]"
   ]
  },
  {
   "cell_type": "code",
   "execution_count": 18,
   "metadata": {},
   "outputs": [
    {
     "data": {
      "text/plain": [
       "'3'"
      ]
     },
     "execution_count": 18,
     "metadata": {},
     "output_type": "execute_result"
    }
   ],
   "source": [
    "a[-1]"
   ]
  },
  {
   "cell_type": "code",
   "execution_count": 21,
   "metadata": {},
   "outputs": [],
   "source": [
    "digits='23'\n",
    "dic = {'2':'abc', '3':'def', '4':'ghi', '5':'jkl', '6':'mno', '7':'pqrs', '8':'tuv', '9':'wxyz'}\n",
    "res = ['']\n",
    "for digit in digits:\n",
    "    res = [r+d for r in res for d in dic[digit]]"
   ]
  },
  {
   "cell_type": "code",
   "execution_count": 23,
   "metadata": {},
   "outputs": [
    {
     "data": {
      "text/plain": [
       "['ad', 'ae', 'af', 'bd', 'be', 'bf', 'cd', 'ce', 'cf']"
      ]
     },
     "execution_count": 23,
     "metadata": {},
     "output_type": "execute_result"
    }
   ],
   "source": [
    "res"
   ]
  },
  {
   "cell_type": "code",
   "execution_count": 34,
   "metadata": {},
   "outputs": [
    {
     "ename": "IndentationError",
     "evalue": "expected an indented block (<ipython-input-34-f61151075cb1>, line 3)",
     "output_type": "error",
     "traceback": [
      "\u001b[1;36m  File \u001b[1;32m\"<ipython-input-34-f61151075cb1>\"\u001b[1;36m, line \u001b[1;32m3\u001b[0m\n\u001b[1;33m    for d in dic[digit]:\u001b[0m\n\u001b[1;37m      ^\u001b[0m\n\u001b[1;31mIndentationError\u001b[0m\u001b[1;31m:\u001b[0m expected an indented block\n"
     ]
    }
   ],
   "source": [
    "for digit in digits:\n",
    "    for r in res:\n",
    "    for d in dic[digit]:\n",
    "        res += [r+d]"
   ]
  },
  {
   "cell_type": "code",
   "execution_count": 35,
   "metadata": {},
   "outputs": [
    {
     "data": {
      "text/plain": [
       "['fcf',\n",
       " 'fcfa',\n",
       " 'fcfb',\n",
       " 'fcfc',\n",
       " 'fcfaa',\n",
       " 'fcfab',\n",
       " 'fcfac',\n",
       " 'fcfba',\n",
       " 'fcfbb',\n",
       " 'fcfbc',\n",
       " 'fcfca',\n",
       " 'fcfcb',\n",
       " 'fcfcc',\n",
       " 'fcfaaa',\n",
       " 'fcfaab',\n",
       " 'fcfaac',\n",
       " 'fcfaba',\n",
       " 'fcfabb',\n",
       " 'fcfabc',\n",
       " 'fcfaca',\n",
       " 'fcfacb',\n",
       " 'fcfacc',\n",
       " 'fcfbaa',\n",
       " 'fcfbab',\n",
       " 'fcfbac',\n",
       " 'fcfbba',\n",
       " 'fcfbbb',\n",
       " 'fcfbbc',\n",
       " 'fcfbca',\n",
       " 'fcfbcb',\n",
       " 'fcfbcc',\n",
       " 'fcfcaa',\n",
       " 'fcfcab',\n",
       " 'fcfcac',\n",
       " 'fcfcba',\n",
       " 'fcfcbb',\n",
       " 'fcfcbc',\n",
       " 'fcfcca',\n",
       " 'fcfccb',\n",
       " 'fcfccc',\n",
       " 'fcfaaaa',\n",
       " 'fcfaaab',\n",
       " 'fcfaaac',\n",
       " 'fcfaaba',\n",
       " 'fcfaabb',\n",
       " 'fcfaabc',\n",
       " 'fcfaaca',\n",
       " 'fcfaacb',\n",
       " 'fcfaacc',\n",
       " 'fcfabaa',\n",
       " 'fcfabab',\n",
       " 'fcfabac',\n",
       " 'fcfabba',\n",
       " 'fcfabbb',\n",
       " 'fcfabbc',\n",
       " 'fcfabca',\n",
       " 'fcfabcb',\n",
       " 'fcfabcc',\n",
       " 'fcfacaa',\n",
       " 'fcfacab',\n",
       " 'fcfacac',\n",
       " 'fcfacba',\n",
       " 'fcfacbb',\n",
       " 'fcfacbc',\n",
       " 'fcfacca',\n",
       " 'fcfaccb',\n",
       " 'fcfaccc',\n",
       " 'fcfbaaa',\n",
       " 'fcfbaab',\n",
       " 'fcfbaac',\n",
       " 'fcfbaba',\n",
       " 'fcfbabb',\n",
       " 'fcfbabc',\n",
       " 'fcfbaca',\n",
       " 'fcfbacb',\n",
       " 'fcfbacc',\n",
       " 'fcfbbaa',\n",
       " 'fcfbbab',\n",
       " 'fcfbbac',\n",
       " 'fcfbbba',\n",
       " 'fcfbbbb',\n",
       " 'fcfbbbc',\n",
       " 'fcfbbca',\n",
       " 'fcfbbcb',\n",
       " 'fcfbbcc',\n",
       " 'fcfbcaa',\n",
       " 'fcfbcab',\n",
       " 'fcfbcac',\n",
       " 'fcfbcba',\n",
       " 'fcfbcbb',\n",
       " 'fcfbcbc',\n",
       " 'fcfbcca',\n",
       " 'fcfbccb',\n",
       " 'fcfbccc',\n",
       " 'fcfcaaa',\n",
       " 'fcfcaab',\n",
       " 'fcfcaac',\n",
       " 'fcfcaba',\n",
       " 'fcfcabb',\n",
       " 'fcfcabc',\n",
       " 'fcfcaca',\n",
       " 'fcfcacb',\n",
       " 'fcfcacc',\n",
       " 'fcfcbaa',\n",
       " 'fcfcbab',\n",
       " 'fcfcbac',\n",
       " 'fcfcbba',\n",
       " 'fcfcbbb',\n",
       " 'fcfcbbc',\n",
       " 'fcfcbca',\n",
       " 'fcfcbcb',\n",
       " 'fcfcbcc',\n",
       " 'fcfccaa',\n",
       " 'fcfccab',\n",
       " 'fcfccac',\n",
       " 'fcfccba',\n",
       " 'fcfccbb',\n",
       " 'fcfccbc',\n",
       " 'fcfccca',\n",
       " 'fcfcccb',\n",
       " 'fcfcccc',\n",
       " 'fcfaaaaa',\n",
       " 'fcfaaaab',\n",
       " 'fcfaaaac',\n",
       " 'fcfaaaba',\n",
       " 'fcfaaabb',\n",
       " 'fcfaaabc',\n",
       " 'fcfaaaca',\n",
       " 'fcfaaacb',\n",
       " 'fcfaaacc',\n",
       " 'fcfaabaa',\n",
       " 'fcfaabab',\n",
       " 'fcfaabac',\n",
       " 'fcfaabba',\n",
       " 'fcfaabbb',\n",
       " 'fcfaabbc',\n",
       " 'fcfaabca',\n",
       " 'fcfaabcb',\n",
       " 'fcfaabcc',\n",
       " 'fcfaacaa',\n",
       " 'fcfaacab',\n",
       " 'fcfaacac',\n",
       " 'fcfaacba',\n",
       " 'fcfaacbb',\n",
       " 'fcfaacbc',\n",
       " 'fcfaacca',\n",
       " 'fcfaaccb',\n",
       " 'fcfaaccc',\n",
       " 'fcfabaaa',\n",
       " 'fcfabaab',\n",
       " 'fcfabaac',\n",
       " 'fcfababa',\n",
       " 'fcfababb',\n",
       " 'fcfababc',\n",
       " 'fcfabaca',\n",
       " 'fcfabacb',\n",
       " 'fcfabacc',\n",
       " 'fcfabbaa',\n",
       " 'fcfabbab',\n",
       " 'fcfabbac',\n",
       " 'fcfabbba',\n",
       " 'fcfabbbb',\n",
       " 'fcfabbbc',\n",
       " 'fcfabbca',\n",
       " 'fcfabbcb',\n",
       " 'fcfabbcc',\n",
       " 'fcfabcaa',\n",
       " 'fcfabcab',\n",
       " 'fcfabcac',\n",
       " 'fcfabcba',\n",
       " 'fcfabcbb',\n",
       " 'fcfabcbc',\n",
       " 'fcfabcca',\n",
       " 'fcfabccb',\n",
       " 'fcfabccc',\n",
       " 'fcfacaaa',\n",
       " 'fcfacaab',\n",
       " 'fcfacaac',\n",
       " 'fcfacaba',\n",
       " 'fcfacabb',\n",
       " 'fcfacabc',\n",
       " 'fcfacaca',\n",
       " 'fcfacacb',\n",
       " 'fcfacacc',\n",
       " 'fcfacbaa',\n",
       " 'fcfacbab',\n",
       " 'fcfacbac',\n",
       " 'fcfacbba',\n",
       " 'fcfacbbb',\n",
       " 'fcfacbbc',\n",
       " 'fcfacbca',\n",
       " 'fcfacbcb',\n",
       " 'fcfacbcc',\n",
       " 'fcfaccaa',\n",
       " 'fcfaccab',\n",
       " 'fcfaccac',\n",
       " 'fcfaccba',\n",
       " 'fcfaccbb',\n",
       " 'fcfaccbc',\n",
       " 'fcfaccca',\n",
       " 'fcfacccb',\n",
       " 'fcfacccc',\n",
       " 'fcfbaaaa',\n",
       " 'fcfbaaab',\n",
       " 'fcfbaaac',\n",
       " 'fcfbaaba',\n",
       " 'fcfbaabb',\n",
       " 'fcfbaabc',\n",
       " 'fcfbaaca',\n",
       " 'fcfbaacb',\n",
       " 'fcfbaacc',\n",
       " 'fcfbabaa',\n",
       " 'fcfbabab',\n",
       " 'fcfbabac',\n",
       " 'fcfbabba',\n",
       " 'fcfbabbb',\n",
       " 'fcfbabbc',\n",
       " 'fcfbabca',\n",
       " 'fcfbabcb',\n",
       " 'fcfbabcc',\n",
       " 'fcfbacaa',\n",
       " 'fcfbacab',\n",
       " 'fcfbacac',\n",
       " 'fcfbacba',\n",
       " 'fcfbacbb',\n",
       " 'fcfbacbc',\n",
       " 'fcfbacca',\n",
       " 'fcfbaccb',\n",
       " 'fcfbaccc',\n",
       " 'fcfbbaaa',\n",
       " 'fcfbbaab',\n",
       " 'fcfbbaac',\n",
       " 'fcfbbaba',\n",
       " 'fcfbbabb',\n",
       " 'fcfbbabc',\n",
       " 'fcfbbaca',\n",
       " 'fcfbbacb',\n",
       " 'fcfbbacc',\n",
       " 'fcfbbbaa',\n",
       " 'fcfbbbab',\n",
       " 'fcfbbbac',\n",
       " 'fcfbbbba',\n",
       " 'fcfbbbbb',\n",
       " 'fcfbbbbc',\n",
       " 'fcfbbbca',\n",
       " 'fcfbbbcb',\n",
       " 'fcfbbbcc',\n",
       " 'fcfbbcaa',\n",
       " 'fcfbbcab',\n",
       " 'fcfbbcac',\n",
       " 'fcfbbcba',\n",
       " 'fcfbbcbb',\n",
       " 'fcfbbcbc',\n",
       " 'fcfbbcca',\n",
       " 'fcfbbccb',\n",
       " 'fcfbbccc',\n",
       " 'fcfbcaaa',\n",
       " 'fcfbcaab',\n",
       " 'fcfbcaac',\n",
       " 'fcfbcaba',\n",
       " 'fcfbcabb',\n",
       " 'fcfbcabc',\n",
       " 'fcfbcaca',\n",
       " 'fcfbcacb',\n",
       " 'fcfbcacc',\n",
       " 'fcfbcbaa',\n",
       " 'fcfbcbab',\n",
       " 'fcfbcbac',\n",
       " 'fcfbcbba',\n",
       " 'fcfbcbbb',\n",
       " 'fcfbcbbc',\n",
       " 'fcfbcbca',\n",
       " 'fcfbcbcb',\n",
       " 'fcfbcbcc',\n",
       " 'fcfbccaa',\n",
       " 'fcfbccab',\n",
       " 'fcfbccac',\n",
       " 'fcfbccba',\n",
       " 'fcfbccbb',\n",
       " 'fcfbccbc',\n",
       " 'fcfbccca',\n",
       " 'fcfbcccb',\n",
       " 'fcfbcccc',\n",
       " 'fcfcaaaa',\n",
       " 'fcfcaaab',\n",
       " 'fcfcaaac',\n",
       " 'fcfcaaba',\n",
       " 'fcfcaabb',\n",
       " 'fcfcaabc',\n",
       " 'fcfcaaca',\n",
       " 'fcfcaacb',\n",
       " 'fcfcaacc',\n",
       " 'fcfcabaa',\n",
       " 'fcfcabab',\n",
       " 'fcfcabac',\n",
       " 'fcfcabba',\n",
       " 'fcfcabbb',\n",
       " 'fcfcabbc',\n",
       " 'fcfcabca',\n",
       " 'fcfcabcb',\n",
       " 'fcfcabcc',\n",
       " 'fcfcacaa',\n",
       " 'fcfcacab',\n",
       " 'fcfcacac',\n",
       " 'fcfcacba',\n",
       " 'fcfcacbb',\n",
       " 'fcfcacbc',\n",
       " 'fcfcacca',\n",
       " 'fcfcaccb',\n",
       " 'fcfcaccc',\n",
       " 'fcfcbaaa',\n",
       " 'fcfcbaab',\n",
       " 'fcfcbaac',\n",
       " 'fcfcbaba',\n",
       " 'fcfcbabb',\n",
       " 'fcfcbabc',\n",
       " 'fcfcbaca',\n",
       " 'fcfcbacb',\n",
       " 'fcfcbacc',\n",
       " 'fcfcbbaa',\n",
       " 'fcfcbbab',\n",
       " 'fcfcbbac',\n",
       " 'fcfcbbba',\n",
       " 'fcfcbbbb',\n",
       " 'fcfcbbbc',\n",
       " 'fcfcbbca',\n",
       " 'fcfcbbcb',\n",
       " 'fcfcbbcc',\n",
       " 'fcfcbcaa',\n",
       " 'fcfcbcab',\n",
       " 'fcfcbcac',\n",
       " 'fcfcbcba',\n",
       " 'fcfcbcbb',\n",
       " 'fcfcbcbc',\n",
       " 'fcfcbcca',\n",
       " 'fcfcbccb',\n",
       " 'fcfcbccc',\n",
       " 'fcfccaaa',\n",
       " 'fcfccaab',\n",
       " 'fcfccaac',\n",
       " 'fcfccaba',\n",
       " 'fcfccabb',\n",
       " 'fcfccabc',\n",
       " 'fcfccaca',\n",
       " 'fcfccacb',\n",
       " 'fcfccacc',\n",
       " 'fcfccbaa',\n",
       " 'fcfccbab',\n",
       " 'fcfccbac',\n",
       " 'fcfccbba',\n",
       " 'fcfccbbb',\n",
       " 'fcfccbbc',\n",
       " 'fcfccbca',\n",
       " 'fcfccbcb',\n",
       " 'fcfccbcc',\n",
       " 'fcfcccaa',\n",
       " 'fcfcccab',\n",
       " 'fcfcccac',\n",
       " 'fcfcccba',\n",
       " 'fcfcccbb',\n",
       " 'fcfcccbc',\n",
       " 'fcfcccca',\n",
       " 'fcfccccb',\n",
       " 'fcfccccc',\n",
       " 'fcfaaaaaa',\n",
       " 'fcfaaaaab',\n",
       " 'fcfaaaaac',\n",
       " 'fcfaaaaba',\n",
       " 'fcfaaaabb',\n",
       " 'fcfaaaabc',\n",
       " 'fcfaaaaca',\n",
       " 'fcfaaaacb',\n",
       " 'fcfaaaacc',\n",
       " 'fcfaaabaa',\n",
       " 'fcfaaabab',\n",
       " 'fcfaaabac',\n",
       " 'fcfaaabba',\n",
       " 'fcfaaabbb',\n",
       " 'fcfaaabbc',\n",
       " 'fcfaaabca',\n",
       " 'fcfaaabcb',\n",
       " 'fcfaaabcc',\n",
       " 'fcfaaacaa',\n",
       " 'fcfaaacab',\n",
       " 'fcfaaacac',\n",
       " 'fcfaaacba',\n",
       " 'fcfaaacbb',\n",
       " 'fcfaaacbc',\n",
       " 'fcfaaacca',\n",
       " 'fcfaaaccb',\n",
       " 'fcfaaaccc',\n",
       " 'fcfaabaaa',\n",
       " 'fcfaabaab',\n",
       " 'fcfaabaac',\n",
       " 'fcfaababa',\n",
       " 'fcfaababb',\n",
       " 'fcfaababc',\n",
       " 'fcfaabaca',\n",
       " 'fcfaabacb',\n",
       " 'fcfaabacc',\n",
       " 'fcfaabbaa',\n",
       " 'fcfaabbab',\n",
       " 'fcfaabbac',\n",
       " 'fcfaabbba',\n",
       " 'fcfaabbbb',\n",
       " 'fcfaabbbc',\n",
       " 'fcfaabbca',\n",
       " 'fcfaabbcb',\n",
       " 'fcfaabbcc',\n",
       " 'fcfaabcaa',\n",
       " 'fcfaabcab',\n",
       " 'fcfaabcac',\n",
       " 'fcfaabcba',\n",
       " 'fcfaabcbb',\n",
       " 'fcfaabcbc',\n",
       " 'fcfaabcca',\n",
       " 'fcfaabccb',\n",
       " 'fcfaabccc',\n",
       " 'fcfaacaaa',\n",
       " 'fcfaacaab',\n",
       " 'fcfaacaac',\n",
       " 'fcfaacaba',\n",
       " 'fcfaacabb',\n",
       " 'fcfaacabc',\n",
       " 'fcfaacaca',\n",
       " 'fcfaacacb',\n",
       " 'fcfaacacc',\n",
       " 'fcfaacbaa',\n",
       " 'fcfaacbab',\n",
       " 'fcfaacbac',\n",
       " 'fcfaacbba',\n",
       " 'fcfaacbbb',\n",
       " 'fcfaacbbc',\n",
       " 'fcfaacbca',\n",
       " 'fcfaacbcb',\n",
       " 'fcfaacbcc',\n",
       " 'fcfaaccaa',\n",
       " 'fcfaaccab',\n",
       " 'fcfaaccac',\n",
       " 'fcfaaccba',\n",
       " 'fcfaaccbb',\n",
       " 'fcfaaccbc',\n",
       " 'fcfaaccca',\n",
       " 'fcfaacccb',\n",
       " 'fcfaacccc',\n",
       " 'fcfabaaaa',\n",
       " 'fcfabaaab',\n",
       " 'fcfabaaac',\n",
       " 'fcfabaaba',\n",
       " 'fcfabaabb',\n",
       " 'fcfabaabc',\n",
       " 'fcfabaaca',\n",
       " 'fcfabaacb',\n",
       " 'fcfabaacc',\n",
       " 'fcfababaa',\n",
       " 'fcfababab',\n",
       " 'fcfababac',\n",
       " 'fcfababba',\n",
       " 'fcfababbb',\n",
       " 'fcfababbc',\n",
       " 'fcfababca',\n",
       " 'fcfababcb',\n",
       " 'fcfababcc',\n",
       " 'fcfabacaa',\n",
       " 'fcfabacab',\n",
       " 'fcfabacac',\n",
       " 'fcfabacba',\n",
       " 'fcfabacbb',\n",
       " 'fcfabacbc',\n",
       " 'fcfabacca',\n",
       " 'fcfabaccb',\n",
       " 'fcfabaccc',\n",
       " 'fcfabbaaa',\n",
       " 'fcfabbaab',\n",
       " 'fcfabbaac',\n",
       " 'fcfabbaba',\n",
       " 'fcfabbabb',\n",
       " 'fcfabbabc',\n",
       " 'fcfabbaca',\n",
       " 'fcfabbacb',\n",
       " 'fcfabbacc',\n",
       " 'fcfabbbaa',\n",
       " 'fcfabbbab',\n",
       " 'fcfabbbac',\n",
       " 'fcfabbbba',\n",
       " 'fcfabbbbb',\n",
       " 'fcfabbbbc',\n",
       " 'fcfabbbca',\n",
       " 'fcfabbbcb',\n",
       " 'fcfabbbcc',\n",
       " 'fcfabbcaa',\n",
       " 'fcfabbcab',\n",
       " 'fcfabbcac',\n",
       " 'fcfabbcba',\n",
       " 'fcfabbcbb',\n",
       " 'fcfabbcbc',\n",
       " 'fcfabbcca',\n",
       " 'fcfabbccb',\n",
       " 'fcfabbccc',\n",
       " 'fcfabcaaa',\n",
       " 'fcfabcaab',\n",
       " 'fcfabcaac',\n",
       " 'fcfabcaba',\n",
       " 'fcfabcabb',\n",
       " 'fcfabcabc',\n",
       " 'fcfabcaca',\n",
       " 'fcfabcacb',\n",
       " 'fcfabcacc',\n",
       " 'fcfabcbaa',\n",
       " 'fcfabcbab',\n",
       " 'fcfabcbac',\n",
       " 'fcfabcbba',\n",
       " 'fcfabcbbb',\n",
       " 'fcfabcbbc',\n",
       " 'fcfabcbca',\n",
       " 'fcfabcbcb',\n",
       " 'fcfabcbcc',\n",
       " 'fcfabccaa',\n",
       " 'fcfabccab',\n",
       " 'fcfabccac',\n",
       " 'fcfabccba',\n",
       " 'fcfabccbb',\n",
       " 'fcfabccbc',\n",
       " 'fcfabccca',\n",
       " 'fcfabcccb',\n",
       " 'fcfabcccc',\n",
       " 'fcfacaaaa',\n",
       " 'fcfacaaab',\n",
       " 'fcfacaaac',\n",
       " 'fcfacaaba',\n",
       " 'fcfacaabb',\n",
       " 'fcfacaabc',\n",
       " 'fcfacaaca',\n",
       " 'fcfacaacb',\n",
       " 'fcfacaacc',\n",
       " 'fcfacabaa',\n",
       " 'fcfacabab',\n",
       " 'fcfacabac',\n",
       " 'fcfacabba',\n",
       " 'fcfacabbb',\n",
       " 'fcfacabbc',\n",
       " 'fcfacabca',\n",
       " 'fcfacabcb',\n",
       " 'fcfacabcc',\n",
       " 'fcfacacaa',\n",
       " 'fcfacacab',\n",
       " 'fcfacacac',\n",
       " 'fcfacacba',\n",
       " 'fcfacacbb',\n",
       " 'fcfacacbc',\n",
       " 'fcfacacca',\n",
       " 'fcfacaccb',\n",
       " 'fcfacaccc',\n",
       " 'fcfacbaaa',\n",
       " 'fcfacbaab',\n",
       " 'fcfacbaac',\n",
       " 'fcfacbaba',\n",
       " 'fcfacbabb',\n",
       " 'fcfacbabc',\n",
       " 'fcfacbaca',\n",
       " 'fcfacbacb',\n",
       " 'fcfacbacc',\n",
       " 'fcfacbbaa',\n",
       " 'fcfacbbab',\n",
       " 'fcfacbbac',\n",
       " 'fcfacbbba',\n",
       " 'fcfacbbbb',\n",
       " 'fcfacbbbc',\n",
       " 'fcfacbbca',\n",
       " 'fcfacbbcb',\n",
       " 'fcfacbbcc',\n",
       " 'fcfacbcaa',\n",
       " 'fcfacbcab',\n",
       " 'fcfacbcac',\n",
       " 'fcfacbcba',\n",
       " 'fcfacbcbb',\n",
       " 'fcfacbcbc',\n",
       " 'fcfacbcca',\n",
       " 'fcfacbccb',\n",
       " 'fcfacbccc',\n",
       " 'fcfaccaaa',\n",
       " 'fcfaccaab',\n",
       " 'fcfaccaac',\n",
       " 'fcfaccaba',\n",
       " 'fcfaccabb',\n",
       " 'fcfaccabc',\n",
       " 'fcfaccaca',\n",
       " 'fcfaccacb',\n",
       " 'fcfaccacc',\n",
       " 'fcfaccbaa',\n",
       " 'fcfaccbab',\n",
       " 'fcfaccbac',\n",
       " 'fcfaccbba',\n",
       " 'fcfaccbbb',\n",
       " 'fcfaccbbc',\n",
       " 'fcfaccbca',\n",
       " 'fcfaccbcb',\n",
       " 'fcfaccbcc',\n",
       " 'fcfacccaa',\n",
       " 'fcfacccab',\n",
       " 'fcfacccac',\n",
       " 'fcfacccba',\n",
       " 'fcfacccbb',\n",
       " 'fcfacccbc',\n",
       " 'fcfacccca',\n",
       " 'fcfaccccb',\n",
       " 'fcfaccccc',\n",
       " 'fcfbaaaaa',\n",
       " 'fcfbaaaab',\n",
       " 'fcfbaaaac',\n",
       " 'fcfbaaaba',\n",
       " 'fcfbaaabb',\n",
       " 'fcfbaaabc',\n",
       " 'fcfbaaaca',\n",
       " 'fcfbaaacb',\n",
       " 'fcfbaaacc',\n",
       " 'fcfbaabaa',\n",
       " 'fcfbaabab',\n",
       " 'fcfbaabac',\n",
       " 'fcfbaabba',\n",
       " 'fcfbaabbb',\n",
       " 'fcfbaabbc',\n",
       " 'fcfbaabca',\n",
       " 'fcfbaabcb',\n",
       " 'fcfbaabcc',\n",
       " 'fcfbaacaa',\n",
       " 'fcfbaacab',\n",
       " 'fcfbaacac',\n",
       " 'fcfbaacba',\n",
       " 'fcfbaacbb',\n",
       " 'fcfbaacbc',\n",
       " 'fcfbaacca',\n",
       " 'fcfbaaccb',\n",
       " 'fcfbaaccc',\n",
       " 'fcfbabaaa',\n",
       " 'fcfbabaab',\n",
       " 'fcfbabaac',\n",
       " 'fcfbababa',\n",
       " 'fcfbababb',\n",
       " 'fcfbababc',\n",
       " 'fcfbabaca',\n",
       " 'fcfbabacb',\n",
       " 'fcfbabacc',\n",
       " 'fcfbabbaa',\n",
       " 'fcfbabbab',\n",
       " 'fcfbabbac',\n",
       " 'fcfbabbba',\n",
       " 'fcfbabbbb',\n",
       " 'fcfbabbbc',\n",
       " 'fcfbabbca',\n",
       " 'fcfbabbcb',\n",
       " 'fcfbabbcc',\n",
       " 'fcfbabcaa',\n",
       " 'fcfbabcab',\n",
       " 'fcfbabcac',\n",
       " 'fcfbabcba',\n",
       " 'fcfbabcbb',\n",
       " 'fcfbabcbc',\n",
       " 'fcfbabcca',\n",
       " 'fcfbabccb',\n",
       " 'fcfbabccc',\n",
       " 'fcfbacaaa',\n",
       " 'fcfbacaab',\n",
       " 'fcfbacaac',\n",
       " 'fcfbacaba',\n",
       " 'fcfbacabb',\n",
       " 'fcfbacabc',\n",
       " 'fcfbacaca',\n",
       " 'fcfbacacb',\n",
       " 'fcfbacacc',\n",
       " 'fcfbacbaa',\n",
       " 'fcfbacbab',\n",
       " 'fcfbacbac',\n",
       " 'fcfbacbba',\n",
       " 'fcfbacbbb',\n",
       " 'fcfbacbbc',\n",
       " 'fcfbacbca',\n",
       " 'fcfbacbcb',\n",
       " 'fcfbacbcc',\n",
       " 'fcfbaccaa',\n",
       " 'fcfbaccab',\n",
       " 'fcfbaccac',\n",
       " 'fcfbaccba',\n",
       " 'fcfbaccbb',\n",
       " 'fcfbaccbc',\n",
       " 'fcfbaccca',\n",
       " 'fcfbacccb',\n",
       " 'fcfbacccc',\n",
       " 'fcfbbaaaa',\n",
       " 'fcfbbaaab',\n",
       " 'fcfbbaaac',\n",
       " 'fcfbbaaba',\n",
       " 'fcfbbaabb',\n",
       " 'fcfbbaabc',\n",
       " 'fcfbbaaca',\n",
       " 'fcfbbaacb',\n",
       " 'fcfbbaacc',\n",
       " 'fcfbbabaa',\n",
       " 'fcfbbabab',\n",
       " 'fcfbbabac',\n",
       " 'fcfbbabba',\n",
       " 'fcfbbabbb',\n",
       " 'fcfbbabbc',\n",
       " 'fcfbbabca',\n",
       " 'fcfbbabcb',\n",
       " 'fcfbbabcc',\n",
       " 'fcfbbacaa',\n",
       " 'fcfbbacab',\n",
       " 'fcfbbacac',\n",
       " 'fcfbbacba',\n",
       " 'fcfbbacbb',\n",
       " 'fcfbbacbc',\n",
       " 'fcfbbacca',\n",
       " 'fcfbbaccb',\n",
       " 'fcfbbaccc',\n",
       " 'fcfbbbaaa',\n",
       " 'fcfbbbaab',\n",
       " 'fcfbbbaac',\n",
       " 'fcfbbbaba',\n",
       " 'fcfbbbabb',\n",
       " 'fcfbbbabc',\n",
       " 'fcfbbbaca',\n",
       " 'fcfbbbacb',\n",
       " 'fcfbbbacc',\n",
       " 'fcfbbbbaa',\n",
       " 'fcfbbbbab',\n",
       " 'fcfbbbbac',\n",
       " 'fcfbbbbba',\n",
       " 'fcfbbbbbb',\n",
       " 'fcfbbbbbc',\n",
       " 'fcfbbbbca',\n",
       " 'fcfbbbbcb',\n",
       " 'fcfbbbbcc',\n",
       " 'fcfbbbcaa',\n",
       " 'fcfbbbcab',\n",
       " 'fcfbbbcac',\n",
       " 'fcfbbbcba',\n",
       " 'fcfbbbcbb',\n",
       " 'fcfbbbcbc',\n",
       " 'fcfbbbcca',\n",
       " 'fcfbbbccb',\n",
       " 'fcfbbbccc',\n",
       " 'fcfbbcaaa',\n",
       " 'fcfbbcaab',\n",
       " 'fcfbbcaac',\n",
       " 'fcfbbcaba',\n",
       " 'fcfbbcabb',\n",
       " 'fcfbbcabc',\n",
       " 'fcfbbcaca',\n",
       " 'fcfbbcacb',\n",
       " 'fcfbbcacc',\n",
       " 'fcfbbcbaa',\n",
       " 'fcfbbcbab',\n",
       " 'fcfbbcbac',\n",
       " 'fcfbbcbba',\n",
       " 'fcfbbcbbb',\n",
       " 'fcfbbcbbc',\n",
       " 'fcfbbcbca',\n",
       " 'fcfbbcbcb',\n",
       " 'fcfbbcbcc',\n",
       " 'fcfbbccaa',\n",
       " 'fcfbbccab',\n",
       " 'fcfbbccac',\n",
       " 'fcfbbccba',\n",
       " 'fcfbbccbb',\n",
       " 'fcfbbccbc',\n",
       " 'fcfbbccca',\n",
       " 'fcfbbcccb',\n",
       " 'fcfbbcccc',\n",
       " 'fcfbcaaaa',\n",
       " 'fcfbcaaab',\n",
       " 'fcfbcaaac',\n",
       " 'fcfbcaaba',\n",
       " 'fcfbcaabb',\n",
       " 'fcfbcaabc',\n",
       " 'fcfbcaaca',\n",
       " 'fcfbcaacb',\n",
       " 'fcfbcaacc',\n",
       " 'fcfbcabaa',\n",
       " 'fcfbcabab',\n",
       " 'fcfbcabac',\n",
       " 'fcfbcabba',\n",
       " 'fcfbcabbb',\n",
       " 'fcfbcabbc',\n",
       " 'fcfbcabca',\n",
       " 'fcfbcabcb',\n",
       " 'fcfbcabcc',\n",
       " 'fcfbcacaa',\n",
       " 'fcfbcacab',\n",
       " 'fcfbcacac',\n",
       " 'fcfbcacba',\n",
       " 'fcfbcacbb',\n",
       " 'fcfbcacbc',\n",
       " 'fcfbcacca',\n",
       " 'fcfbcaccb',\n",
       " 'fcfbcaccc',\n",
       " 'fcfbcbaaa',\n",
       " 'fcfbcbaab',\n",
       " 'fcfbcbaac',\n",
       " 'fcfbcbaba',\n",
       " 'fcfbcbabb',\n",
       " 'fcfbcbabc',\n",
       " 'fcfbcbaca',\n",
       " 'fcfbcbacb',\n",
       " 'fcfbcbacc',\n",
       " 'fcfbcbbaa',\n",
       " 'fcfbcbbab',\n",
       " 'fcfbcbbac',\n",
       " 'fcfbcbbba',\n",
       " 'fcfbcbbbb',\n",
       " 'fcfbcbbbc',\n",
       " 'fcfbcbbca',\n",
       " 'fcfbcbbcb',\n",
       " 'fcfbcbbcc',\n",
       " 'fcfbcbcaa',\n",
       " 'fcfbcbcab',\n",
       " 'fcfbcbcac',\n",
       " 'fcfbcbcba',\n",
       " 'fcfbcbcbb',\n",
       " 'fcfbcbcbc',\n",
       " 'fcfbcbcca',\n",
       " 'fcfbcbccb',\n",
       " 'fcfbcbccc',\n",
       " 'fcfbccaaa',\n",
       " 'fcfbccaab',\n",
       " 'fcfbccaac',\n",
       " 'fcfbccaba',\n",
       " 'fcfbccabb',\n",
       " 'fcfbccabc',\n",
       " 'fcfbccaca',\n",
       " 'fcfbccacb',\n",
       " 'fcfbccacc',\n",
       " 'fcfbccbaa',\n",
       " 'fcfbccbab',\n",
       " 'fcfbccbac',\n",
       " 'fcfbccbba',\n",
       " 'fcfbccbbb',\n",
       " 'fcfbccbbc',\n",
       " 'fcfbccbca',\n",
       " 'fcfbccbcb',\n",
       " 'fcfbccbcc',\n",
       " 'fcfbcccaa',\n",
       " 'fcfbcccab',\n",
       " 'fcfbcccac',\n",
       " 'fcfbcccba',\n",
       " 'fcfbcccbb',\n",
       " 'fcfbcccbc',\n",
       " 'fcfbcccca',\n",
       " 'fcfbccccb',\n",
       " 'fcfbccccc',\n",
       " 'fcfcaaaaa',\n",
       " 'fcfcaaaab',\n",
       " 'fcfcaaaac',\n",
       " 'fcfcaaaba',\n",
       " 'fcfcaaabb',\n",
       " 'fcfcaaabc',\n",
       " 'fcfcaaaca',\n",
       " 'fcfcaaacb',\n",
       " 'fcfcaaacc',\n",
       " 'fcfcaabaa',\n",
       " 'fcfcaabab',\n",
       " 'fcfcaabac',\n",
       " 'fcfcaabba',\n",
       " 'fcfcaabbb',\n",
       " 'fcfcaabbc',\n",
       " 'fcfcaabca',\n",
       " 'fcfcaabcb',\n",
       " 'fcfcaabcc',\n",
       " 'fcfcaacaa',\n",
       " 'fcfcaacab',\n",
       " 'fcfcaacac',\n",
       " 'fcfcaacba',\n",
       " 'fcfcaacbb',\n",
       " 'fcfcaacbc',\n",
       " 'fcfcaacca',\n",
       " 'fcfcaaccb',\n",
       " 'fcfcaaccc',\n",
       " 'fcfcabaaa',\n",
       " 'fcfcabaab',\n",
       " 'fcfcabaac',\n",
       " 'fcfcababa',\n",
       " 'fcfcababb',\n",
       " 'fcfcababc',\n",
       " 'fcfcabaca',\n",
       " 'fcfcabacb',\n",
       " 'fcfcabacc',\n",
       " 'fcfcabbaa',\n",
       " 'fcfcabbab',\n",
       " 'fcfcabbac',\n",
       " 'fcfcabbba',\n",
       " 'fcfcabbbb',\n",
       " 'fcfcabbbc',\n",
       " 'fcfcabbca',\n",
       " 'fcfcabbcb',\n",
       " 'fcfcabbcc',\n",
       " 'fcfcabcaa',\n",
       " 'fcfcabcab',\n",
       " 'fcfcabcac',\n",
       " 'fcfcabcba',\n",
       " 'fcfcabcbb',\n",
       " 'fcfcabcbc',\n",
       " 'fcfcabcca',\n",
       " 'fcfcabccb',\n",
       " 'fcfcabccc',\n",
       " 'fcfcacaaa',\n",
       " 'fcfcacaab',\n",
       " 'fcfcacaac',\n",
       " 'fcfcacaba',\n",
       " 'fcfcacabb',\n",
       " 'fcfcacabc',\n",
       " 'fcfcacaca',\n",
       " 'fcfcacacb',\n",
       " 'fcfcacacc',\n",
       " 'fcfcacbaa',\n",
       " 'fcfcacbab',\n",
       " 'fcfcacbac',\n",
       " 'fcfcacbba',\n",
       " 'fcfcacbbb',\n",
       " 'fcfcacbbc',\n",
       " 'fcfcacbca',\n",
       " 'fcfcacbcb',\n",
       " 'fcfcacbcc',\n",
       " 'fcfcaccaa',\n",
       " 'fcfcaccab',\n",
       " 'fcfcaccac',\n",
       " 'fcfcaccba',\n",
       " 'fcfcaccbb',\n",
       " 'fcfcaccbc',\n",
       " 'fcfcaccca',\n",
       " 'fcfcacccb',\n",
       " 'fcfcacccc',\n",
       " 'fcfcbaaaa',\n",
       " 'fcfcbaaab',\n",
       " 'fcfcbaaac',\n",
       " 'fcfcbaaba',\n",
       " 'fcfcbaabb',\n",
       " 'fcfcbaabc',\n",
       " 'fcfcbaaca',\n",
       " 'fcfcbaacb',\n",
       " 'fcfcbaacc',\n",
       " 'fcfcbabaa',\n",
       " 'fcfcbabab',\n",
       " 'fcfcbabac',\n",
       " 'fcfcbabba',\n",
       " 'fcfcbabbb',\n",
       " 'fcfcbabbc',\n",
       " 'fcfcbabca',\n",
       " 'fcfcbabcb',\n",
       " 'fcfcbabcc',\n",
       " 'fcfcbacaa',\n",
       " 'fcfcbacab',\n",
       " 'fcfcbacac',\n",
       " 'fcfcbacba',\n",
       " 'fcfcbacbb',\n",
       " 'fcfcbacbc',\n",
       " 'fcfcbacca',\n",
       " 'fcfcbaccb',\n",
       " 'fcfcbaccc',\n",
       " 'fcfcbbaaa',\n",
       " 'fcfcbbaab',\n",
       " 'fcfcbbaac',\n",
       " 'fcfcbbaba',\n",
       " 'fcfcbbabb',\n",
       " 'fcfcbbabc',\n",
       " 'fcfcbbaca',\n",
       " 'fcfcbbacb',\n",
       " 'fcfcbbacc',\n",
       " 'fcfcbbbaa',\n",
       " 'fcfcbbbab',\n",
       " 'fcfcbbbac',\n",
       " 'fcfcbbbba',\n",
       " 'fcfcbbbbb',\n",
       " 'fcfcbbbbc',\n",
       " 'fcfcbbbca',\n",
       " 'fcfcbbbcb',\n",
       " 'fcfcbbbcc',\n",
       " 'fcfcbbcaa',\n",
       " 'fcfcbbcab',\n",
       " 'fcfcbbcac',\n",
       " 'fcfcbbcba',\n",
       " 'fcfcbbcbb',\n",
       " 'fcfcbbcbc',\n",
       " 'fcfcbbcca',\n",
       " 'fcfcbbccb',\n",
       " 'fcfcbbccc',\n",
       " 'fcfcbcaaa',\n",
       " 'fcfcbcaab',\n",
       " 'fcfcbcaac',\n",
       " 'fcfcbcaba',\n",
       " 'fcfcbcabb',\n",
       " 'fcfcbcabc',\n",
       " 'fcfcbcaca',\n",
       " 'fcfcbcacb',\n",
       " 'fcfcbcacc',\n",
       " 'fcfcbcbaa',\n",
       " 'fcfcbcbab',\n",
       " 'fcfcbcbac',\n",
       " 'fcfcbcbba',\n",
       " 'fcfcbcbbb',\n",
       " 'fcfcbcbbc',\n",
       " ...]"
      ]
     },
     "execution_count": 35,
     "metadata": {},
     "output_type": "execute_result"
    }
   ],
   "source": [
    "res"
   ]
  },
  {
   "cell_type": "code",
   "execution_count": null,
   "metadata": {},
   "outputs": [],
   "source": []
  }
 ],
 "metadata": {
  "kernelspec": {
   "display_name": "Python 3",
   "language": "python",
   "name": "python3"
  },
  "language_info": {
   "codemirror_mode": {
    "name": "ipython",
    "version": 3
   },
   "file_extension": ".py",
   "mimetype": "text/x-python",
   "name": "python",
   "nbconvert_exporter": "python",
   "pygments_lexer": "ipython3",
   "version": "3.6.5"
  }
 },
 "nbformat": 4,
 "nbformat_minor": 2
}
